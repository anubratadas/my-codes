{
 "cells": [
  {
   "cell_type": "code",
   "execution_count": 65,
   "metadata": {},
   "outputs": [
    {
     "data": {
      "text/plain": [
       "'/home/anubratadas/Documents/my_codes'"
      ]
     },
     "execution_count": 65,
     "metadata": {},
     "output_type": "execute_result"
    }
   ],
   "source": [
    "import os\n",
    "os.getcwd()"
   ]
  },
  {
   "cell_type": "code",
   "execution_count": 66,
   "metadata": {},
   "outputs": [
    {
     "name": "stdout",
     "output_type": "stream",
     "text": [
      "CosmicMutantExport.tsv\tCosmicMutant.tsv.gz\r\n"
     ]
    }
   ],
   "source": [
    "!ls Cos*"
   ]
  },
  {
   "cell_type": "code",
   "execution_count": null,
   "metadata": {},
   "outputs": [],
   "source": [
    "def data_open():\n",
    "    for line in open('CosmicMutantExport.tsv','r'):\n",
    "        yield line"
   ]
  },
  {
   "cell_type": "code",
   "execution_count": 62,
   "metadata": {},
   "outputs": [],
   "source": [
    "cosmic_data.close()\n",
    "cosmic_data.close()\n",
    "cosmic_data_listobj.close()\n",
    "mutation_strand_obj_list.close()"
   ]
  },
  {
   "cell_type": "code",
   "execution_count": 63,
   "metadata": {},
   "outputs": [],
   "source": [
    "cosmic_data=data_open()"
   ]
  },
  {
   "cell_type": "code",
   "execution_count": 64,
   "metadata": {},
   "outputs": [
    {
     "name": "stdout",
     "output_type": "stream",
     "text": [
      "(0, 'Gene name')\n",
      "(1, 'Accession Number')\n",
      "(2, 'Gene CDS length')\n",
      "(3, 'HGNC ID')\n",
      "(4, 'Sample name')\n",
      "(5, 'ID_sample')\n",
      "(6, 'ID_tumour')\n",
      "(7, 'Primary site')\n",
      "(8, 'Site subtype 1')\n",
      "(9, 'Site subtype 2')\n",
      "(10, 'Site subtype 3')\n",
      "(11, 'Primary histology')\n",
      "(12, 'Histology subtype 1')\n",
      "(13, 'Histology subtype 2')\n",
      "(14, 'Histology subtype 3')\n",
      "(15, 'Genome-wide screen')\n",
      "(16, 'GENOMIC_MUTATION_ID')\n",
      "(17, 'LEGACY_MUTATION_ID')\n",
      "(18, 'MUTATION_ID')\n",
      "(19, 'Mutation CDS')\n",
      "(20, 'Mutation AA')\n",
      "(21, 'Mutation Description')\n",
      "(22, 'Mutation zygosity')\n",
      "(23, 'LOH')\n",
      "(24, 'GRCh')\n",
      "(25, 'Mutation genome position')\n",
      "(26, 'Mutation strand')\n",
      "(27, 'SNP')\n",
      "(28, 'Resistance Mutation')\n",
      "(29, 'FATHMM prediction')\n",
      "(30, 'FATHMM score')\n",
      "(31, 'Mutation somatic status')\n",
      "(32, 'Pubmed_PMID')\n",
      "(33, 'ID_STUDY')\n",
      "(34, 'Sample Type')\n",
      "(35, 'Tumour origin')\n",
      "(36, 'Age')\n",
      "(37, 'HGVSP')\n",
      "(38, 'HGVSC')\n",
      "(39, 'HGVSG')\n"
     ]
    }
   ],
   "source": [
    "def col_details():\n",
    "    col_names=next(cosmic_data).split('\\t')\n",
    "    col_names=[item.strip() for item in col_names]\n",
    "    col_name_index=[num for num in range(len(col_names))]\n",
    "    for item in zip(col_name_index,col_names):\n",
    "        print(item)\n",
    "col_details()    "
   ]
  },
  {
   "cell_type": "code",
   "execution_count": 49,
   "metadata": {},
   "outputs": [],
   "source": [
    "cosmic_index=[0,18,25,26]"
   ]
  },
  {
   "cell_type": "code",
   "execution_count": 50,
   "metadata": {},
   "outputs": [],
   "source": [
    "def strand_cols(input_obj):\n",
    "    cosmic_index=[0,18,25,26]\n",
    "    lst=[]\n",
    "    for num in cosmic_index:\n",
    "        lst.append(input_obj[num])\n",
    "    return lst    "
   ]
  },
  {
   "cell_type": "code",
   "execution_count": 51,
   "metadata": {},
   "outputs": [],
   "source": [
    "cosmic_data_listobj=(data.split('\\t') for data in cosmic_data)"
   ]
  },
  {
   "cell_type": "code",
   "execution_count": 52,
   "metadata": {},
   "outputs": [],
   "source": [
    "mutation_strand_obj=map(strand_cols,cosmic_data_listobj)\n",
    "mutation_strand_obj_list=(obj for obj in mutation_strand_obj)"
   ]
  },
  {
   "cell_type": "code",
   "execution_count": 54,
   "metadata": {},
   "outputs": [
    {
     "name": "stdout",
     "output_type": "stream",
     "text": [
      "line 25774661 has formatting issue\n",
      "percentage of \"+\" is 50.43479330339204 and percentage of \"-\" is 49.56520669660796\n"
     ]
    }
   ],
   "source": [
    "def count_strand():\n",
    "    count=0\n",
    "    count_pos=0\n",
    "    count_neg=0\n",
    "\n",
    "    try:\n",
    "        for item in mutation_strand_obj_list:\n",
    "            count=count+1\n",
    "            if '+' in item[3]:\n",
    "                count_pos=count_pos+1\n",
    "            elif '-' in item[3]:\n",
    "                count_neg=count_neg+1       \n",
    "            else:\n",
    "                pass\n",
    "    except UnicodeDecodeError:\n",
    "        print(f'line {count} has formatting issue')\n",
    "        pass\n",
    "    print(f'percentage of \"+\" is {(count_pos/count)*100} and percentage of \"-\" is {(count_neg/count)*100}') \n",
    "count_strand()    "
   ]
  },
  {
   "cell_type": "code",
   "execution_count": null,
   "metadata": {},
   "outputs": [],
   "source": []
  }
 ],
 "metadata": {
  "kernelspec": {
   "display_name": "Python 3",
   "language": "python",
   "name": "python3"
  }
 },
 "nbformat": 4,
 "nbformat_minor": 4
}
