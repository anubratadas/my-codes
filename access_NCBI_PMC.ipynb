{
 "cells": [
  {
   "cell_type": "markdown",
   "metadata": {
    "id": "XBnXP_vJSQ79"
   },
   "source": [
    "# NCBI\n",
    "\n",
    "Use the \"Run\" button to execute the code."
   ]
  },
  {
   "cell_type": "code",
   "execution_count": 2,
   "metadata": {
    "executionInfo": {
     "elapsed": 3809,
     "status": "ok",
     "timestamp": 1627366817215,
     "user": {
      "displayName": "Anubrata Das",
      "photoUrl": "https://lh3.googleusercontent.com/a-/AOh14GiI2340pPpSj6e4aG_4urL4HRwW3MRXEf5aoo2_QA=s64",
      "userId": "08781375266004215524"
     },
     "user_tz": -330
    },
    "id": "RC0HPPdZSQ8A"
   },
   "outputs": [],
   "source": [
    "!pip install jovian --upgrade --quiet"
   ]
  },
  {
   "cell_type": "code",
   "execution_count": 3,
   "metadata": {
    "executionInfo": {
     "elapsed": 47,
     "status": "ok",
     "timestamp": 1627366817217,
     "user": {
      "displayName": "Anubrata Das",
      "photoUrl": "https://lh3.googleusercontent.com/a-/AOh14GiI2340pPpSj6e4aG_4urL4HRwW3MRXEf5aoo2_QA=s64",
      "userId": "08781375266004215524"
     },
     "user_tz": -330
    },
    "id": "iCBnhl_6SQ8C"
   },
   "outputs": [],
   "source": [
    "import jovian"
   ]
  },
  {
   "cell_type": "code",
   "execution_count": 4,
   "metadata": {
    "colab": {
     "base_uri": "https://localhost:8080/",
     "height": 0
    },
    "executionInfo": {
     "elapsed": 9123,
     "status": "ok",
     "timestamp": 1627366826300,
     "user": {
      "displayName": "Anubrata Das",
      "photoUrl": "https://lh3.googleusercontent.com/a-/AOh14GiI2340pPpSj6e4aG_4urL4HRwW3MRXEf5aoo2_QA=s64",
      "userId": "08781375266004215524"
     },
     "user_tz": -330
    },
    "id": "wzjCQLrmSQ8F",
    "outputId": "cc5d8b2c-1be9-4794-b1ea-069b3c517e4b"
   },
   "outputs": [
    {
     "name": "stdout",
     "output_type": "stream",
     "text": [
      "[jovian] Detected Colab notebook...\u001b[0m\n",
      "[jovian] Please enter your API key ( from https://jovian.ai/ ):\u001b[0m\n",
      "API KEY: ··········\n",
      "[jovian] Uploading colab notebook to Jovian...\u001b[0m\n",
      "Committed successfully! https://jovian.ai/anubratadas/ncbi-consolidated\n"
     ]
    },
    {
     "data": {
      "application/vnd.google.colaboratory.intrinsic+json": {
       "type": "string"
      },
      "text/plain": [
       "'https://jovian.ai/anubratadas/ncbi-consolidated'"
      ]
     },
     "execution_count": 4,
     "metadata": {
      "tags": []
     },
     "output_type": "execute_result"
    }
   ],
   "source": [
    "# Execute this to save new versions of the notebook\n",
    "jovian.commit(project=\"NCBI Consolidated\", filename=\"ncbi-consolidated\")"
   ]
  },
  {
   "cell_type": "code",
   "execution_count": 5,
   "metadata": {
    "executionInfo": {
     "elapsed": 736,
     "status": "ok",
     "timestamp": 1627366827018,
     "user": {
      "displayName": "Anubrata Das",
      "photoUrl": "https://lh3.googleusercontent.com/a-/AOh14GiI2340pPpSj6e4aG_4urL4HRwW3MRXEf5aoo2_QA=s64",
      "userId": "08781375266004215524"
     },
     "user_tz": -330
    },
    "id": "ZQKcSkowSQ8M"
   },
   "outputs": [],
   "source": [
    "import requests\n",
    "import time\n",
    "import xml.etree.ElementTree as ET\n",
    "import time\n",
    "import pandas as pd\n",
    "import numpy as np\n",
    "import matplotlib.pyplot as plt\n",
    "import seaborn as sns\n",
    "%matplotlib inline"
   ]
  },
  {
   "cell_type": "code",
   "execution_count": null,
   "metadata": {
    "colab": {
     "base_uri": "https://localhost:8080/"
    },
    "id": "vJLgtSavSQ8O",
    "outputId": "550a16c6-d171-429d-ca52-198b97d12aac"
   },
   "outputs": [
    {
     "name": "stdout",
     "output_type": "stream",
     "text": [
      "1014209\n",
      "472077\n",
      "58006\n",
      "0\n",
      "1554\n",
      "844\n",
      "515\n",
      "68\n",
      "17\n",
      "366428\n",
      "2901\n",
      "979\n",
      "20\n",
      "953072\n",
      "250638\n",
      "19403\n",
      "23\n",
      "64\n",
      "34\n",
      "35\n",
      "0\n",
      "0\n"
     ]
    }
   ],
   "source": [
    "# from PMC Database\n",
    "url=\"https://eutils.ncbi.nlm.nih.gov/entrez/eutils/esearch.fcgi\" # base url\n",
    "def get_values(): \n",
    "    db_list=[\"pmc\",\"pubmed\"]\n",
    "    term=[\"mutation\",\"mutation AND cancer\",\"mutation AND phylogeny\",\"mutation AND 'DNA repair'\",\"mutation AND 'driver gene'\",\n",
    "         \"mutation AND 'drug resistance'\",\"'adaptive mutation' AND cancer\",\"'adaptive mutation' AND phylogeny\",\n",
    "         \"'adaptive mutation' AND 'drug resistance'\",\"cancer AND pathways AND mutations\",\"cancer AND 'pathway analysis'\",\n",
    "         \"cancer AND 'drug resistance'\",\"'driver gene' AND 'drug resistance'\"]\n",
    "    count_dict={}\n",
    "    count_dict['term']=term # populate the terms in the dictionary\n",
    "    for db in db_list:     \n",
    "        response_lst=[]\n",
    "        for item in term:\n",
    "            time.sleep(1)\n",
    "            try:\n",
    "                payload={\"db\":db,\"term\":item,\"retype\":\"count\",\"retmax\":1000,\"email\":\"anubratadas@gmail.com\",\"api_key\":\"9577c7078191e23dfdd5015746af31abf708\" } # parameters\n",
    "                response=requests.get(url,params=payload) # response object\n",
    "                tree=ET.fromstring(response.content) # tree obtained directly from response.content using fromstring\n",
    "                count=tree.find('Count').text\n",
    "                print(count)\n",
    "                response_lst.append(count)                \n",
    "            except error:\n",
    "                print(error)  \n",
    "        count_dict[db]=response_lst   \n",
    "    #mutation_dict= {\"term\":term,str(db):response_lst}    \n",
    "    return  count_dict # return count of listings\n",
    "                   \n",
    "count_dict=get_values()"
   ]
  },
  {
   "cell_type": "code",
   "execution_count": null,
   "metadata": {
    "id": "CC8d7nZNSQ8R"
   },
   "outputs": [],
   "source": [
    "df_mutation=pd.DataFrame(count_dict)\n",
    "df_mutation['pmc']=pd.to_numeric(df_mutation['pmc'])\n",
    "df_mutation['pubmed']=pd.to_numeric(df_mutation['pubmed'])\n",
    "df_mutation.dtypes"
   ]
  },
  {
   "cell_type": "code",
   "execution_count": null,
   "metadata": {
    "id": "GA4lXsYwSQ8W"
   },
   "outputs": [],
   "source": [
    "df_mutation"
   ]
  },
  {
   "cell_type": "code",
   "execution_count": null,
   "metadata": {
    "id": "sNN59Y6bmvcT"
   },
   "outputs": [],
   "source": [
    "# melt the dataframe to long format to unpivot the databases\n",
    "# rename the columns, semicolon suppreses output\n",
    "df_mutation_melted=pd.melt(df_mutation,id_vars=['term'],value_vars=['pmc','pubmed'])\n",
    "df_mutation_melted=df_mutation_melted.rename(columns={\"variable\":\"database\",\"value\":\"records\"}); "
   ]
  },
  {
   "cell_type": "code",
   "execution_count": null,
   "metadata": {
    "id": "ENm3XAacmvcU"
   },
   "outputs": [],
   "source": [
    "df_mutation_melted['records']=df_mutation_melted['records'].map(lambda x: np.log(x))\n",
    "df_mutation_melted.head()"
   ]
  },
  {
   "cell_type": "code",
   "execution_count": null,
   "metadata": {
    "id": "e-IlJIAASQ8a"
   },
   "outputs": [],
   "source": [
    "plt.figure(figsize=(12, 6))\n",
    "plt.title('')\n",
    "sns.barplot(data=df_mutation_melted,x='term',y='records',hue='database');\n",
    "plt.xticks(rotation=70)\n",
    "plt.tight_layout()"
   ]
  },
  {
   "cell_type": "code",
   "execution_count": null,
   "metadata": {
    "id": "VifSovs-SQ8d"
   },
   "outputs": [],
   "source": [
    "# from PMC Database\n",
    "url=\"https://eutils.ncbi.nlm.nih.gov/entrez/eutils/esearch.fcgi\" # base url\n",
    "def get_efetch_uids(item): \n",
    "    uid_lst=[] # list object to collect the udds generated by Esearch    \n",
    "    try:\n",
    "        payload={\"db\":\"pmc\",\"term\":item,\"retype\":\"count\",\"retmax\":1000,\"email\":\"anubratadas@gmail.com\",\"api_key\":\"9577c7078191e23dfdd5015746af31abf708\" } # parameters\n",
    "        response=requests.get(url,params=payload) # response object\n",
    "        response.raise_for_status()\n",
    "        root=ET.fromstring(response.content) # tree obtained directly from response.content using fromstring\n",
    "        id_list=root.find('IdList')   \n",
    "        return id_list\n",
    "    except requests.exceptions.HTTPError as err:\n",
    "        raise SystemExit(err)\n",
    "    except requests.exceptions.TooManyRedirects:\n",
    "        print(\"please try a different URL\")\n",
    "            \n",
    "def call_efetch():\n",
    "    term=[\"mutation AND 'driver gene'\",\"cancer AND 'drug resistance'\",\"mutation AND 'drug resistance'\",\"'driver gene' AND 'drug resistance'\",\n",
    "         \"'driver gene' AND cancer\",\"'adaptive mutation' AND 'drug resistance'\",\"cancer AND pathways AND mutations\",\"cancer AND 'pathway analysis'\",\n",
    "         \"cancer AND 'drug resistance' AND 'driver gene'\",\"'DNA repair' AND 'drug resistance'\"]\n",
    "    uid_list=[]\n",
    "    for item in term:\n",
    "        time.sleep(1)\n",
    "        id_list=get_efetch_uids(item)        \n",
    "        for id_num in id_list:\n",
    "            uid_list.append(id_num.text)\n",
    "    uid=\",\".join(uid_list) \n",
    "    print(f' {len(uid_list)} records retrieved')\n",
    "    return uid\n",
    "uid=call_efetch()"
   ]
  },
  {
   "cell_type": "code",
   "execution_count": null,
   "metadata": {
    "id": "PQ0VS-1eSQ8h"
   },
   "outputs": [],
   "source": [
    "# Esummary with the string variable from Esearch passed to id parameter of Esummary\n",
    "# since we have more than 200 records we have to use post\n",
    "url_summ=\"https://eutils.ncbi.nlm.nih.gov/entrez/eutils/esummary.fcgi?\"\n",
    "payload={\"db\":\"pmc\",\"id\":uid,\"email\":\"anubratadas@gmail.com\",\"api_key\":\"9577c7078191e23dfdd5015746af31abf708\" } \n",
    "response_esumm_uid=requests.get(url_summ,params=payload) # response object\n",
    "esummary_root_et=ET.fromstring(response_esumm_uid.content)"
   ]
  },
  {
   "cell_type": "code",
   "execution_count": null,
   "metadata": {
    "id": "TyMp4WgJSQ8i"
   },
   "outputs": [],
   "source": [
    "for child in ET.fromstring(response_esumm_uid.content):\n",
    "    for subchild in child:\n",
    "        print(subchild.text)"
   ]
  },
  {
   "cell_type": "markdown",
   "metadata": {
    "id": "5RMJAp5dSQ8l"
   },
   "source": [
    "as the list of files were large in number, the server refused connection"
   ]
  },
  {
   "cell_type": "markdown",
   "metadata": {
    "id": "tlK2x9YCSQ8o"
   },
   "source": [
    "now we will chunk up the list of files into units of 1000"
   ]
  },
  {
   "cell_type": "code",
   "execution_count": null,
   "metadata": {
    "id": "S_Bm8hSTSQ8r"
   },
   "outputs": [],
   "source": [
    "# this function creates sublists of 200 entries each for getting esummary records\n",
    "\n",
    "def chunk_list():\n",
    "    master_list_=[]\n",
    "    add_list=[]  # create a temporary list variable\n",
    "    new_uid_list=uid.split(\",\") # create a list of UIDs back from the string generated earlier by merging the UIDs\n",
    "    print(len(new_uid_list))\n",
    "    a=200 # select the chunk size\n",
    "    while len(new_uid_list)>=0:  # check that input list is nonzero\n",
    "        add_list=new_uid_list[:a]   # append the first 200 entries from input to the temporary list variable\n",
    "        del new_uid_list[:a]        # delete the entries transferred to the temporary list from the input list   \n",
    "        master_list_.append(add_list)    \n",
    "        if len(new_uid_list)<=0:\n",
    "            break   \n",
    "    return master_list_         \n",
    "master_list=chunk_list()"
   ]
  },
  {
   "cell_type": "code",
   "execution_count": null,
   "metadata": {
    "id": "lC8zI9GoSQ8x"
   },
   "outputs": [],
   "source": [
    "master_list[0][1:10]"
   ]
  },
  {
   "cell_type": "code",
   "execution_count": null,
   "metadata": {
    "id": "Lyj22oZGSQ80"
   },
   "outputs": [],
   "source": [
    "# this code snippet will change the UIDs in the sublist back into strings for searching with esummary as a parameter\n",
    "def uid_string_convert(master_list):\n",
    "    uid_string_list=[]\n",
    "    for sublist in master_list:\n",
    "        str_uid=\",\".join(sublist)\n",
    "        uid_string_list.append(str_uid)\n",
    "    print(len(uid_string_list))\n",
    "    return uid_string_list\n",
    "\n",
    "\n",
    "def get_summary():\n",
    "    uid_string_list=uid_string_convert(master_list)\n",
    "    for uid_string in uid_string_list:    \n",
    "        url_summ=\"https://eutils.ncbi.nlm.nih.gov/entrez/eutils/esummary.fcgi?\"\n",
    "        payload={\"db\":\"pmc\",\"id\":uid_string,\"email\":\"anubratadas@gmail.com\",\"api_key\":\"9577c7078191e23dfdd5015746af31abf708\" } \n",
    "        time.sleep(1)                                              # server throttle\n",
    "        response_esumm_uid=requests.get(url_summ,params=payload)   # response object\n",
    "        esummary_root_et=ET.fromstring(response_esumm_uid.content) # get content\n",
    "        docsum=esummary_root_et.findall('DocSum')                  # find document\n",
    "        return docsum\n",
    "\n",
    "def parse_docsum():\n",
    "    title_dict={\"uid\":[],\"title\":[]}\n",
    "    title_list=[]\n",
    "    uid_list=[]\n",
    "    docsum_list=get_summary()\n",
    "    for entry in docsum_list:\n",
    "        id_=entry.find('Id')\n",
    "        #print(id.text)\n",
    "        uid_list.append(id_.text)\n",
    "        title=entry.find('Item[@Name=\"Title\"]')\n",
    "        #print(title.text)\n",
    "        title_list.append(title.text)\n",
    "    title_dict[\"title\"]=title_list\n",
    "    title_dict[\"uid\"]=uid_list\n",
    "    return title_dict\n",
    "\n",
    "title_dict=parse_docsum()\n",
    "search_title=pd.DataFrame(title_dict)\n",
    "search_title_csv=search_title.to_csv(\"ncbi_search_titles_pmc.csv\")"
   ]
  },
  {
   "cell_type": "code",
   "execution_count": null,
   "metadata": {
    "id": "xISEwXyISQ83"
   },
   "outputs": [],
   "source": [
    "search_title"
   ]
  },
  {
   "cell_type": "code",
   "execution_count": null,
   "metadata": {
    "id": "3_hyhDlzSQ8-"
   },
   "outputs": [],
   "source": [
    "# Esummary with the string variable from Esearch passed to id parameter of Esummary\n",
    "# since we have more than 200 records we have to use post\n",
    "url_summ=\"https://eutils.ncbi.nlm.nih.gov/entrez/eutils/esummary.fcgi?\"\n",
    "payload={\"db\":\"pubmed\",\"id\":\"8021012\",\"email\":\"anubratadas@gmail.com\",\"api_key\":\"9577c7078191e23dfdd5015746af31abf708\" } \n",
    "response_esumm_uid=requests.post(url_summ,params=payload) # response object\n",
    "esummary_root_et=ET.fromstring(response_esumm_uid.content)"
   ]
  },
  {
   "cell_type": "code",
   "execution_count": null,
   "metadata": {
    "id": "iyfiUfQNSQ9A"
   },
   "outputs": [],
   "source": [
    "esummary_root_et.find('DocSum/Item[@Name=\"Title\"]').text"
   ]
  },
  {
   "cell_type": "code",
   "execution_count": null,
   "metadata": {
    "id": "EGz-B-ApSQ9D"
   },
   "outputs": [],
   "source": [
    "esummary_root_et.find('DocSum/Id').text"
   ]
  },
  {
   "cell_type": "code",
   "execution_count": null,
   "metadata": {
    "id": "_eCVgqQ-SQ9E"
   },
   "outputs": [],
   "source": [
    "jovian.commit(project=\"NCBI Consolidated\", filename=\"ncbi-consolidated\")"
   ]
  },
  {
   "cell_type": "markdown",
   "metadata": {
    "id": "84B3v-mBmvcw"
   },
   "source": [
    "#### now we shall try to get the records"
   ]
  },
  {
   "cell_type": "code",
   "execution_count": null,
   "metadata": {
    "id": "4wQo-Uz-mvcx"
   },
   "outputs": [],
   "source": [
    "fetch_url=\",\".join(master_list[0])"
   ]
  },
  {
   "cell_type": "code",
   "execution_count": null,
   "metadata": {
    "id": "2WJx8tlOa3fC"
   },
   "outputs": [],
   "source": [
    "fetch_url"
   ]
  },
  {
   "cell_type": "code",
   "execution_count": null,
   "metadata": {
    "id": "0Yr7_wbCmvcz"
   },
   "outputs": [],
   "source": [
    "response_efetch=requests.get(\"https://eutils.ncbi.nlm.nih.gov/entrez/eutils/efetch.fcgi\",params={\"db\":\"pmc\",\"id\":'6650054',\"format\":\"xml\"})"
   ]
  },
  {
   "cell_type": "code",
   "execution_count": null,
   "metadata": {
    "id": "dpZ2PrXamvc0"
   },
   "outputs": [],
   "source": [
    "print(response_efetch.raise_for_status())"
   ]
  },
  {
   "cell_type": "code",
   "execution_count": null,
   "metadata": {
    "id": "E1ZBBzA2mvc1"
   },
   "outputs": [],
   "source": [
    "!conda install lxml --yes --quiet"
   ]
  },
  {
   "cell_type": "code",
   "execution_count": null,
   "metadata": {
    "id": "Frx3QJQvmvc2"
   },
   "outputs": [],
   "source": [
    "from lxml import etree\n",
    "from io import StringIO, BytesIO"
   ]
  },
  {
   "cell_type": "code",
   "execution_count": null,
   "metadata": {
    "id": "wiPicaE1mvc3"
   },
   "outputs": [],
   "source": [
    "root=etree.parse(StringIO(response_efetch.text))"
   ]
  },
  {
   "cell_type": "code",
   "execution_count": null,
   "metadata": {
    "id": "IEqZbiDUmvc4"
   },
   "outputs": [],
   "source": [
    "# view the layout of the tree objectobject\n",
    "print(etree.tostring(root))"
   ]
  },
  {
   "cell_type": "code",
   "execution_count": null,
   "metadata": {
    "id": "oqnhd9ZEmvc6"
   },
   "outputs": [],
   "source": [
    "# using element tree\n",
    "title_from_element_tree=[element for element in root.iter() if element.tag=='article-title'][0].text"
   ]
  },
  {
   "cell_type": "code",
   "execution_count": null,
   "metadata": {
    "id": "bPB7n40pmvc7"
   },
   "outputs": [],
   "source": [
    "title=root.xpath('//article-title/text()')[0]\n",
    "title"
   ]
  },
  {
   "cell_type": "code",
   "execution_count": null,
   "metadata": {
    "id": "2cZ3v4emmvc9"
   },
   "outputs": [],
   "source": [
    "# using element tree\n",
    "for element in root.iter():\n",
    "    if element.tag=='abstract':\n",
    "        abstract_tag=element       "
   ]
  },
  {
   "cell_type": "code",
   "execution_count": null,
   "metadata": {
    "id": "HF2d4AEcmvc-"
   },
   "outputs": [],
   "source": [
    "for sub_element in abstract_tag:\n",
    "    if sub_element.tag=='p':\n",
    "        print(sub_element.text) # the formatting for POGZ disrupts the text formatting"
   ]
  },
  {
   "cell_type": "code",
   "execution_count": null,
   "metadata": {
    "id": "C--yROJ3mvc_"
   },
   "outputs": [],
   "source": [
    "# using xpath\n",
    "abstract_list=root.xpath('//abstract//p//text()') # the formatting for POGZ disrupts the text formatting\n",
    "abstract=\"\".join(abstract_list)                   # the list obtained is combined as text  \n",
    "abstract"
   ]
  },
  {
   "cell_type": "code",
   "execution_count": null,
   "metadata": {
    "id": "A_lzcmETmvdB"
   },
   "outputs": [],
   "source": [
    "conclusions"
   ]
  },
  {
   "cell_type": "code",
   "execution_count": null,
   "metadata": {
    "id": "BlrJPbsymvdC"
   },
   "outputs": [],
   "source": [
    "for section in conclusions:\n",
    "    for element in section.iter():\n",
    "        if element.tag==\"Discussion\":\n",
    "            print(element.text)\n",
    "       "
   ]
  },
  {
   "cell_type": "code",
   "execution_count": null,
   "metadata": {
    "id": "upyF2LIpmvdD"
   },
   "outputs": [],
   "source": [
    "for section in conclusions:\n",
    "    for element in section.iter(\"title\"):       \n",
    "            print(element.text)       "
   ]
  },
  {
   "cell_type": "code",
   "execution_count": null,
   "metadata": {
    "id": "A0Xp2EUVmvdE"
   },
   "outputs": [],
   "source": [
    "discussion=\"\"\n",
    "for section in conclusions:\n",
    "    if section.findtext('title')==\"Discussion\":\n",
    "        for element in section.getchildren():\n",
    "            if element.tag=='p':\n",
    "                discussion=discussion+element.text"
   ]
  },
  {
   "cell_type": "code",
   "execution_count": null,
   "metadata": {
    "id": "tWRJlUvrmvdE"
   },
   "outputs": [],
   "source": [
    "discussion"
   ]
  },
  {
   "cell_type": "code",
   "execution_count": null,
   "metadata": {
    "id": "fbosF8TsmvdF"
   },
   "outputs": [],
   "source": []
  }
 ],
 "metadata": {
  "colab": {
   "name": "ncbi-consolidated.ipynb",
   "provenance": []
  },
  "language_info": {
   "codemirror_mode": {
    "name": "ipython",
    "version": 3
   },
   "file_extension": ".py",
   "mimetype": "text/x-python",
   "name": "python",
   "nbconvert_exporter": "python",
   "pygments_lexer": "ipython3",
   "version": "3.9.5"
  }
 },
 "nbformat": 4,
 "nbformat_minor": 0
}