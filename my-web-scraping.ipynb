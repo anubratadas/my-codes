{
 "cells": [
  {
   "cell_type": "markdown",
   "metadata": {},
   "source": [
    "# Where is the demand for IT infrastructure ?\n",
    "\n",
    "Use the \"Run\" button to execute the code."
   ]
  },
  {
   "cell_type": "code",
   "execution_count": null,
   "metadata": {},
   "outputs": [],
   "source": [
    "!pip install jovian --upgrade --quiet"
   ]
  },
  {
   "cell_type": "code",
   "execution_count": null,
   "metadata": {},
   "outputs": [],
   "source": [
    "import jovian"
   ]
  },
  {
   "cell_type": "code",
   "execution_count": null,
   "metadata": {},
   "outputs": [],
   "source": [
    "# Execute this to save new versions of the notebook\n",
    "jovian.commit(project=\"my-web-scraping\")"
   ]
  },
  {
   "cell_type": "markdown",
   "metadata": {},
   "source": [
    "### <font color='#E913D1'>IT startups would want to work in countries with active demand for IT services. In this notebook we are webscraping a reputed global tender information website **https://www.tendersinfo.com** for collecting comprehensive data on which countries are spending on IT infrastructure</font>"
   ]
  },
  {
   "cell_type": "markdown",
   "metadata": {},
   "source": [
    "![](https://i.imgur.com/2aBph8H.jpg)"
   ]
  },
  {
   "cell_type": "markdown",
   "metadata": {},
   "source": [
    "### TODO:\n",
    "### 1. _access tender information web portal_\n",
    "### 2. _cycle through the web pages and  collect the html data_\n",
    "### 3. *use Beautiful Soup library to collect tender information tabular data*\n",
    "### 4. *construct a pandas dataframe to collate the data*\n",
    "### 5. *create a csv file for the tabular data*\n",
    "\n",
    "### Output:\n",
    "\n",
    "###  we will generate a csv having Name of country, tender date, item description, due date"
   ]
  },
  {
   "cell_type": "markdown",
   "metadata": {},
   "source": [
    "## <font color='green'>**Summary of Input and Output**</font> "
   ]
  },
  {
   "cell_type": "markdown",
   "metadata": {},
   "source": [
    "![img](https://i.imgur.com/SR9fhxa.jpg)"
   ]
  },
  {
   "cell_type": "markdown",
   "metadata": {},
   "source": [
    "### Import the libraries"
   ]
  },
  {
   "cell_type": "code",
   "execution_count": 1,
   "metadata": {},
   "outputs": [],
   "source": [
    "import requests\n",
    "from bs4 import BeautifulSoup\n",
    "import pandas as pd\n",
    "import numpy as np\n",
    "import time \n",
    "import ipywidgets as widgets\n",
    "from ipywidgets import interact, interactive, fixed, interact_manual,Layout\n",
    "from tqdm.notebook import tnrange,tqdm"
   ]
  },
  {
   "cell_type": "markdown",
   "metadata": {},
   "source": [
    "### _we have used requests library to access the webpages_ \n",
    "### (https://docs.python-requests.org/en/master/)\n",
    "### _we have used BeautifulSoup library to parse the webpages_ \n",
    "### (https://www.crummy.com/software/BeautifulSoup/bs4/doc/)\n",
    "### _we have used Pandas library to tabulate the results_ \n",
    "### (https://pandas.pydata.org/)\n",
    "### _we have used time module to control the request frequency_ \n",
    "### (https://docs.python.org/3/library/time.html#module-time)"
   ]
  },
  {
   "cell_type": "markdown",
   "metadata": {},
   "source": [
    "### <font color='blue'>get the number of records of Infotech Tenders on the portal</font>"
   ]
  },
  {
   "cell_type": "code",
   "execution_count": 2,
   "metadata": {},
   "outputs": [
    {
     "name": "stdout",
     "output_type": "stream",
     "text": [
      "The number of records are 260281\n",
      "please choose the number of records needed by using the slider\n"
     ]
    },
    {
     "data": {
      "application/vnd.jupyter.widget-view+json": {
       "model_id": "bafa570cf1d84cecac391b1e3518470d",
       "version_major": 2,
       "version_minor": 0
      },
      "text/plain": [
       "IntSlider(value=0, description='Number of Records:', layout=Layout(width='900px'), max=260281, style=SliderSty…"
      ]
     },
     "metadata": {},
     "output_type": "display_data"
    }
   ],
   "source": [
    "def get_item_num():\n",
    "    try:\n",
    "        html=requests.get('https://www.tendersinfo.com/global-information-technology-tenders.php').text\n",
    "        soup=BeautifulSoup(html,\"html.parser\")\n",
    "        number_of_items=soup.find_all('div',{'class':'col-lg-5'})[0].get_text().split()[0]\n",
    "        print(f'The number of records are {int(number_of_items)}')\n",
    "        print(f'please choose the number of records needed by using the slider')\n",
    "        return int(number_of_items)\n",
    "    except response.status_code !=200:\n",
    "        print(f\"wrong response {response.status_code}\")\n",
    "# gets the number of records\n",
    "num_items=int(get_item_num())\n",
    "# the widget slider object is initialized\n",
    "style = {'description_width': 'initial'}\n",
    "slider=widgets.IntSlider(value=0,min=0,max=num_items,step=1,description='Number of Records:',layout=Layout(width='900px'),style=style) \n",
    "# display the widget\n",
    "display(slider)         "
   ]
  },
  {
   "cell_type": "markdown",
   "metadata": {},
   "source": [
    "### <font color='blue'>display the number of records chosen</font>"
   ]
  },
  {
   "cell_type": "code",
   "execution_count": 3,
   "metadata": {},
   "outputs": [
    {
     "name": "stdout",
     "output_type": "stream",
     "text": [
      "20037 records have been chosen\n"
     ]
    }
   ],
   "source": [
    "# interactive widget having lambda function to return the value from the slider   \n",
    "choose_records=interactive(lambda num: num,num=slider)\n",
    "chosen_value=choose_records.children[0].value # capture the value selected by the slider\n",
    "print(f'{chosen_value} records have been chosen')"
   ]
  },
  {
   "cell_type": "markdown",
   "metadata": {},
   "source": [
    "### <font color='blue'>The Main function will call helper functions to download the data and create a tabular format</font>"
   ]
  },
  {
   "cell_type": "markdown",
   "metadata": {},
   "source": [
    "#### <font color=\"red\">**please initialize the helper functions before calling the main function**</font>"
   ]
  },
  {
   "cell_type": "code",
   "execution_count": 8,
   "metadata": {},
   "outputs": [
    {
     "data": {
      "application/vnd.jupyter.widget-view+json": {
       "model_id": "9c229474c454491bb1ab7fbf2d3edd6b",
       "version_major": 2,
       "version_minor": 0
      },
      "text/plain": [
       "HBox(children=(HTML(value='downloading'), FloatProgress(value=0.0, max=15.413076923076924), HTML(value='')))"
      ]
     },
     "metadata": {},
     "output_type": "display_data"
    },
    {
     "name": "stdout",
     "output_type": "stream",
     "text": [
      "\n",
      "the time taken is 87 seconds\n"
     ]
    }
   ],
   "source": [
    "def main():\n",
    "    \"\"\" main function which cycles through webpages and calls other function\"\"\"\n",
    "    base_url=\"https://www.tendersinfo.com/global-information-technology-tenders-\"\n",
    "   \n",
    "    df_tender=pd.DataFrame()\n",
    "    len_records=0 \n",
    "    start_time=time.time()   \n",
    "    # maximum range cannot exceed the chosen value by the user\n",
    "    while len_records<=chosen_value:\n",
    "        for i in tnrange(chosen_value,desc=\"downloading\",total=(chosen_value/1300),colour=\"blue\"): # tnrange will set up the progress bar       \n",
    "            # slow the querying of url\n",
    "            time.sleep(2)        \n",
    "            url=base_url+str(i)+\".php\"\n",
    "            #print(url)\n",
    "            mlist=get_master_list(url)\n",
    "            df=pd.DataFrame(mlist)\n",
    "            df_tender=pd.concat([df_tender,df],ignore_index=True,axis=0)  \n",
    "            len_records=df_tender.shape[0]   # updation of records obtained\n",
    "            if len_records>=chosen_value:\n",
    "                break\n",
    "    df_tender.columns=['Country','Start_date','Summary','Deadline']\n",
    "    # format the date columns for time\n",
    "    df_tender['Start_date']=pd.to_datetime(df_tender['Start_date'], format='%d-%b-%Y') # date parsed as datetime\n",
    "    df_tender['Deadline']=pd.to_datetime(df_tender['Deadline'], format='%d-%b-%Y')\n",
    "    current_time=time.time()\n",
    "    print(f'the time taken is {round(current_time-start_time)} seconds')\n",
    "    return df_tender\n",
    "df_main=main()"
   ]
  },
  {
   "cell_type": "markdown",
   "metadata": {},
   "source": [
    "### The helper functions"
   ]
  },
  {
   "cell_type": "markdown",
   "metadata": {},
   "source": [
    "### <font color='blue'>function to get the url as a response object</font>"
   ]
  },
  {
   "cell_type": "code",
   "execution_count": 4,
   "metadata": {},
   "outputs": [],
   "source": [
    "def get_url(url):\n",
    "    \"\"\" function to get the response object\"\"\"\n",
    "    #print('in get_url')\n",
    "    try:\n",
    "        response=requests.get(url)\n",
    "        \n",
    "        #print(f'response code is {response.status_code}')        \n",
    "        return response\n",
    "    except response.status_code !=200:\n",
    "        print(f\"wrong response {response.status_code}\")"
   ]
  },
  {
   "cell_type": "markdown",
   "metadata": {},
   "source": [
    "#### <font color='green'>output of the function</font>"
   ]
  },
  {
   "cell_type": "code",
   "execution_count": 5,
   "metadata": {},
   "outputs": [
    {
     "name": "stdout",
     "output_type": "stream",
     "text": [
      "response code is 200\n",
      "get_url creates the <class 'requests.models.Response'> object\n"
     ]
    }
   ],
   "source": [
    "output_get_url=get_url('https://www.tendersinfo.com/global-information-technology-tenders.php')\n",
    "print(f'get_url creates the {type(output_get_url)} object')"
   ]
  },
  {
   "cell_type": "markdown",
   "metadata": {},
   "source": [
    "### <font color='blue'>function to create html file backup and extract html content</font>"
   ]
  },
  {
   "cell_type": "code",
   "execution_count": 5,
   "metadata": {},
   "outputs": [],
   "source": [
    "def text_url(url):\n",
    "    \"\"\" function to create a html file as backup and extract the html content\"\"\"\n",
    "    #print('in text_url')\n",
    "    page=get_url(url)\n",
    "    with open('global-information-technology-tenders.html', 'a', encoding=\"utf-8\") as file:\n",
    "        file.write(page.text)        \n",
    "    text=page.text\n",
    "       \n",
    "    #print(f'extract of page :{page.text[:70]}')\n",
    "    return text"
   ]
  },
  {
   "cell_type": "markdown",
   "metadata": {},
   "source": [
    "#### <font color='green'>output of the function</font>"
   ]
  },
  {
   "cell_type": "code",
   "execution_count": 14,
   "metadata": {},
   "outputs": [
    {
     "name": "stdout",
     "output_type": "stream",
     "text": [
      "extract of page :<style type=\"text/css\">\r\n",
      "\t.img-responsive, .thumbnail>img, .thumbnail \n",
      "text_url creates the <class 'str'> object\n"
     ]
    }
   ],
   "source": [
    "output_text_url=text_url('https://www.tendersinfo.com/global-information-technology-tenders.php')\n",
    "print(f'text_url creates the {type(output_text_url)} object')"
   ]
  },
  {
   "cell_type": "markdown",
   "metadata": {},
   "source": [
    "### <font color='blue'>function to read in html as beautiful soup object and return the desired table rows</font>"
   ]
  },
  {
   "cell_type": "code",
   "execution_count": 6,
   "metadata": {},
   "outputs": [],
   "source": [
    "def parse_text(url):\n",
    "    \"\"\"function to read in html as beautiful soup object and return the desired table rows\"\"\"\n",
    "    \n",
    "    page_content=text_url(url)\n",
    "    #print(f'the length of the webpage is {len(page_content)}')\n",
    "    soup=BeautifulSoup(page_content,'html.parser')\n",
    "    soup_table=soup.find_all('table',{'id':\"datatable\",'class':'table table-striped table-bordered'})\n",
    "    soup_row=soup_table[0].find_all('tr')\n",
    "    #print('table extracted')\n",
    "    return soup_row"
   ]
  },
  {
   "cell_type": "markdown",
   "metadata": {},
   "source": [
    "#### <font color='green'>output of the function</font>"
   ]
  },
  {
   "cell_type": "code",
   "execution_count": 18,
   "metadata": {},
   "outputs": [
    {
     "name": "stdout",
     "output_type": "stream",
     "text": [
      "the length of the webpage is 306974\n",
      "parse_text creates the <class 'bs4.element.ResultSet'> object\n"
     ]
    }
   ],
   "source": [
    "output_parse_text=parse_text('https://www.tendersinfo.com/global-information-technology-tenders.php')\n",
    "print(f'parse_text creates the {type(output_parse_text)} object')"
   ]
  },
  {
   "cell_type": "markdown",
   "metadata": {},
   "source": [
    "### <font color='blue'>function to extract table values and append to a dataframe</font>"
   ]
  },
  {
   "cell_type": "code",
   "execution_count": 7,
   "metadata": {},
   "outputs": [],
   "source": [
    "def get_master_list(url):  \n",
    "    \"\"\"function to extract table values and append to a dataframe\"\"\"\n",
    "    \n",
    "    soup_row=parse_text(url)\n",
    "    master_lst=[] \n",
    "    for item in soup_row:        \n",
    "        for sibling in item.next_siblings:\n",
    "            if hasattr(sibling,'bs4.element.NavigableString'):\n",
    "                entry=sibling.find_all('td')\n",
    "                entry_lst=[]\n",
    "                for sub_item in entry:\n",
    "                    entry_lst.append(sub_item.get_text().strip())\n",
    "                master_lst.append(entry_lst)\n",
    "    #print('listing done')       \n",
    "    #print(master_lst[0])\n",
    "    return master_lst  "
   ]
  },
  {
   "cell_type": "markdown",
   "metadata": {},
   "source": [
    "#### <font color='green'>output of the function</font>"
   ]
  },
  {
   "cell_type": "code",
   "execution_count": 23,
   "metadata": {},
   "outputs": [
    {
     "name": "stdout",
     "output_type": "stream",
     "text": [
      "['United States', '20-Apr-2021', 'Data Entry Function-indexing Outsourcing.', '19-May-2021']\n",
      "get_master_list creates the <class 'list'> object\n"
     ]
    }
   ],
   "source": [
    "output_get_master_list=get_master_list('https://www.tendersinfo.com/global-information-technology-tenders.php')\n",
    "print(f'get_master_list creates the {type(output_get_master_list)} object')"
   ]
  },
  {
   "cell_type": "markdown",
   "metadata": {},
   "source": [
    "## tender details compiled as dataframe"
   ]
  },
  {
   "cell_type": "code",
   "execution_count": 17,
   "metadata": {},
   "outputs": [],
   "source": [
    "in_lst=['Info_tech' for i in range(df_main.shape[0])]\n",
    "df_main['category']=pd.Series(in_lst)"
   ]
  },
  {
   "cell_type": "code",
   "execution_count": 18,
   "metadata": {},
   "outputs": [
    {
     "data": {
      "text/html": [
       "<div>\n",
       "<style scoped>\n",
       "    .dataframe tbody tr th:only-of-type {\n",
       "        vertical-align: middle;\n",
       "    }\n",
       "\n",
       "    .dataframe tbody tr th {\n",
       "        vertical-align: top;\n",
       "    }\n",
       "\n",
       "    .dataframe thead th {\n",
       "        text-align: right;\n",
       "    }\n",
       "</style>\n",
       "<table border=\"1\" class=\"dataframe\">\n",
       "  <thead>\n",
       "    <tr style=\"text-align: right;\">\n",
       "      <th></th>\n",
       "      <th>Country</th>\n",
       "      <th>Start_date</th>\n",
       "      <th>Summary</th>\n",
       "      <th>Deadline</th>\n",
       "      <th>category</th>\n",
       "    </tr>\n",
       "  </thead>\n",
       "  <tbody>\n",
       "    <tr>\n",
       "      <th>0</th>\n",
       "      <td>Spain</td>\n",
       "      <td>2021-04-20</td>\n",
       "      <td>Supply Of Migration And Updating Of Software L...</td>\n",
       "      <td>2021-05-07</td>\n",
       "      <td>Info_tech</td>\n",
       "    </tr>\n",
       "    <tr>\n",
       "      <th>1</th>\n",
       "      <td>Lithuania</td>\n",
       "      <td>2021-04-20</td>\n",
       "      <td>Qualified Remote Email Signature Hardware And ...</td>\n",
       "      <td>2021-05-03</td>\n",
       "      <td>Info_tech</td>\n",
       "    </tr>\n",
       "    <tr>\n",
       "      <th>2</th>\n",
       "      <td>Spain</td>\n",
       "      <td>2021-04-20</td>\n",
       "      <td>The Contract Object Is The Provision Of A Lice...</td>\n",
       "      <td>2021-05-04</td>\n",
       "      <td>Info_tech</td>\n",
       "    </tr>\n",
       "    <tr>\n",
       "      <th>3</th>\n",
       "      <td>Russian Federation</td>\n",
       "      <td>2021-04-20</td>\n",
       "      <td>Provision Of Services For The Modernization Of...</td>\n",
       "      <td>2021-04-29</td>\n",
       "      <td>Info_tech</td>\n",
       "    </tr>\n",
       "    <tr>\n",
       "      <th>4</th>\n",
       "      <td>United States</td>\n",
       "      <td>2021-04-20</td>\n",
       "      <td>Cisco Equipment.</td>\n",
       "      <td>2021-04-26</td>\n",
       "      <td>Info_tech</td>\n",
       "    </tr>\n",
       "  </tbody>\n",
       "</table>\n",
       "</div>"
      ],
      "text/plain": [
       "              Country Start_date  \\\n",
       "0               Spain 2021-04-20   \n",
       "1           Lithuania 2021-04-20   \n",
       "2               Spain 2021-04-20   \n",
       "3  Russian Federation 2021-04-20   \n",
       "4       United States 2021-04-20   \n",
       "\n",
       "                                             Summary   Deadline   category  \n",
       "0  Supply Of Migration And Updating Of Software L... 2021-05-07  Info_tech  \n",
       "1  Qualified Remote Email Signature Hardware And ... 2021-05-03  Info_tech  \n",
       "2  The Contract Object Is The Provision Of A Lice... 2021-05-04  Info_tech  \n",
       "3  Provision Of Services For The Modernization Of... 2021-04-29  Info_tech  \n",
       "4                                   Cisco Equipment. 2021-04-26  Info_tech  "
      ]
     },
     "execution_count": 18,
     "metadata": {},
     "output_type": "execute_result"
    }
   ],
   "source": [
    "df_main.head()"
   ]
  },
  {
   "cell_type": "code",
   "execution_count": 19,
   "metadata": {},
   "outputs": [
    {
     "data": {
      "text/plain": [
       "(19600, 5)"
      ]
     },
     "execution_count": 19,
     "metadata": {},
     "output_type": "execute_result"
    }
   ],
   "source": [
    "df_main.shape"
   ]
  },
  {
   "cell_type": "markdown",
   "metadata": {},
   "source": [
    "## tender details written as csv file "
   ]
  },
  {
   "cell_type": "code",
   "execution_count": 20,
   "metadata": {},
   "outputs": [],
   "source": [
    "df_main.to_csv(\"info_tech_tenders.csv\",index=None)"
   ]
  },
  {
   "cell_type": "markdown",
   "metadata": {},
   "source": [
    "##  <font color='blue' >top 10 countries based on the number of tenders issued</font>         "
   ]
  },
  {
   "cell_type": "code",
   "execution_count": 21,
   "metadata": {},
   "outputs": [
    {
     "data": {
      "text/plain": [
       "<AxesSubplot:ylabel='Country'>"
      ]
     },
     "execution_count": 21,
     "metadata": {},
     "output_type": "execute_result"
    },
    {
     "data": {
      "image/png": "[encoded data removed]",
      "text/plain": [
       "<Figure size 576x576 with 1 Axes>"
      ]
     },
     "metadata": {},
     "output_type": "display_data"
    }
   ],
   "source": [
    "df_main.Country.value_counts()[:10].plot.pie(figsize=(8,8))"
   ]
  },
  {
   "cell_type": "markdown",
   "metadata": {},
   "source": [
    "### References"
   ]
  },
  {
   "cell_type": "markdown",
   "metadata": {},
   "source": [
    "### 1.https://jovian.ai/aakashns/python-web-scraping-project-guide \n",
    "### 2.https://jovian.ai/aakashns/python-web-scraping-project-guide \n",
    "### 3.https://realpython.com/python-web-scraping-practical-introduction/  \n",
    "### 4.https://www.brookings.edu/research/trends-in-the-information-technology-sector/\n",
    "    "
   ]
  },
  {
   "cell_type": "markdown",
   "metadata": {},
   "source": [
    "### Libraries used"
   ]
  },
  {
   "cell_type": "markdown",
   "metadata": {},
   "source": [
    "#### _we have used requests library to access the webpages_ \n",
    "#### (https://docs.python-requests.org/en/master/)\n",
    "#### _we have used BeautifulSoup library to parse the webpages_ \n",
    "#### (https://www.crummy.com/software/BeautifulSoup/bs4/doc/)\n",
    "#### _we have used Pandas library to tabulate the results_ \n",
    "#### (https://pandas.pydata.org/)\n",
    "#### _we have used time module to control the request frequency_ \n",
    "#### (https://docs.python.org/3/library/time.html#module-time)\n",
    "#### _we have used ipywidgets module to create the slider tool and read data from it_ \n",
    "#### (https://ipywidgets.readthedocs.io/en/stable/)\n",
    "#### _we have used tqdm module to create the progress bar_\n",
    "#### (https://github.com/tqdm/tqdm)"
   ]
  },
  {
   "cell_type": "markdown",
   "metadata": {},
   "source": [
    "### Future Work"
   ]
  },
  {
   "cell_type": "markdown",
   "metadata": {},
   "source": [
    "### 1. create a general purpose web scraping tool to access data from several tender portals\n",
    "### 2. carry out Exploratory Data Analysis to summarize and understand the data and find patterns"
   ]
  },
  {
   "cell_type": "code",
   "execution_count": null,
   "metadata": {},
   "outputs": [],
   "source": []
  }
 ],
 "metadata": {
  "kernelspec": {
   "display_name": "Python 3",
   "language": "python",
   "name": "python3"
  },
  "language_info": {
   "codemirror_mode": {
    "name": "ipython",
    "version": 3
   },
   "file_extension": ".py",
   "mimetype": "text/x-python",
   "name": "python",
   "nbconvert_exporter": "python",
   "pygments_lexer": "ipython3",
   "version": "3.8.6"
  }
 },
 "nbformat": 4,
 "nbformat_minor": 2
}
