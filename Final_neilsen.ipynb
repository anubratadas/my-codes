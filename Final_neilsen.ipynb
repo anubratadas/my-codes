{
 "cells": [
  {
   "cell_type": "code",
   "execution_count": 1,
   "metadata": {},
   "outputs": [],
   "source": [
    "# Neilsen Project\n",
    "import numpy as np\n",
    "import pandas as pd\n",
    "import matplotlib.pyplot as plt\n",
    "import seaborn as sns\n",
    "%matplotlib inline\n",
    "from scipy import stats\n",
    "sns.set(color_codes=True)\n",
    "import functools\n",
    "from sklearn.metrics import mean_squared_error,r2_score\n",
    "from sklearn.model_selection import train_test_split\n",
    "import pickle"
   ]
  },
  {
   "cell_type": "markdown",
   "metadata": {},
   "source": [
    "#### read data"
   ]
  },
  {
   "cell_type": "code",
   "execution_count": 2,
   "metadata": {},
   "outputs": [],
   "source": [
    "pd.set_option('display.max_columns',None)\n",
    "pd.set_option('display.max_rows',None)\n",
    "ideal= pd.read_csv(\"ideal.csv\")\n",
    "working=pd.read_csv('working.csv')"
   ]
  },
  {
   "cell_type": "code",
   "execution_count": 4,
   "metadata": {},
   "outputs": [],
   "source": [
    "kirana=pd.read_csv(\"kirana_submit.csv\")"
   ]
  },
  {
   "cell_type": "code",
   "execution_count": 6,
   "metadata": {},
   "outputs": [
    {
     "data": {
      "text/plain": [
       "<bound method DataFrame.info of           ID  TOTALVALUE\n",
       "0       T375        3168\n",
       "1       T379         323\n",
       "2       T381         243\n",
       "3       T382         994\n",
       "4       T384         867\n",
       "...      ...         ...\n",
       "26980  T5999         403\n",
       "26981  T6007         397\n",
       "26982  T6007         606\n",
       "26983  T6007         580\n",
       "26984  T6013         430\n",
       "\n",
       "[26985 rows x 2 columns]>"
      ]
     },
     "execution_count": 6,
     "metadata": {},
     "output_type": "execute_result"
    }
   ],
   "source": [
    "kirana.info"
   ]
  },
  {
   "cell_type": "code",
   "execution_count": 5,
   "metadata": {},
   "outputs": [
    {
     "data": {
      "text/html": [
       "<div>\n",
       "<style scoped>\n",
       "    .dataframe tbody tr th:only-of-type {\n",
       "        vertical-align: middle;\n",
       "    }\n",
       "\n",
       "    .dataframe tbody tr th {\n",
       "        vertical-align: top;\n",
       "    }\n",
       "\n",
       "    .dataframe thead th {\n",
       "        text-align: right;\n",
       "    }\n",
       "</style>\n",
       "<table border=\"1\" class=\"dataframe\">\n",
       "  <thead>\n",
       "    <tr style=\"text-align: right;\">\n",
       "      <th></th>\n",
       "      <th>ID</th>\n",
       "      <th>TOTALVALUE</th>\n",
       "    </tr>\n",
       "  </thead>\n",
       "  <tbody>\n",
       "    <tr>\n",
       "      <td>0</td>\n",
       "      <td>T375</td>\n",
       "      <td>3168</td>\n",
       "    </tr>\n",
       "    <tr>\n",
       "      <td>1</td>\n",
       "      <td>T379</td>\n",
       "      <td>323</td>\n",
       "    </tr>\n",
       "    <tr>\n",
       "      <td>2</td>\n",
       "      <td>T381</td>\n",
       "      <td>243</td>\n",
       "    </tr>\n",
       "    <tr>\n",
       "      <td>3</td>\n",
       "      <td>T382</td>\n",
       "      <td>994</td>\n",
       "    </tr>\n",
       "    <tr>\n",
       "      <td>4</td>\n",
       "      <td>T384</td>\n",
       "      <td>867</td>\n",
       "    </tr>\n",
       "  </tbody>\n",
       "</table>\n",
       "</div>"
      ],
      "text/plain": [
       "     ID  TOTALVALUE\n",
       "0  T375        3168\n",
       "1  T379         323\n",
       "2  T381         243\n",
       "3  T382         994\n",
       "4  T384         867"
      ]
     },
     "execution_count": 5,
     "metadata": {},
     "output_type": "execute_result"
    }
   ],
   "source": [
    "kirana['TOTALVALUE']=kirana['TOTALVALUE'].map(lambda x:int(x))kirana.head()\n"
   ]
  },
  {
   "cell_type": "code",
   "execution_count": 7,
   "metadata": {},
   "outputs": [
    {
     "data": {
      "text/plain": [
       "TOTALVALUE    1303.669557\n",
       "dtype: float64"
      ]
     },
     "execution_count": 7,
     "metadata": {},
     "output_type": "execute_result"
    }
   ],
   "source": [
    "kirana.mean()"
   ]
  },
  {
   "cell_type": "code",
   "execution_count": 9,
   "metadata": {},
   "outputs": [],
   "source": [
    "kirana['TOTALVALUE']=np.where((kirana.TOTALVALUE<=1),1303,kirana.TOTALVALUE)"
   ]
  },
  {
   "cell_type": "code",
   "execution_count": 10,
   "metadata": {},
   "outputs": [],
   "source": [
    "kirana.to_csv(\"kirana_submit.csv\",index=False)"
   ]
  },
  {
   "cell_type": "code",
   "execution_count": null,
   "metadata": {},
   "outputs": [],
   "source": []
  },
  {
   "cell_type": "code",
   "execution_count": null,
   "metadata": {},
   "outputs": [],
   "source": []
  },
  {
   "cell_type": "markdown",
   "metadata": {},
   "source": [
    "#### check null values in dataset"
   ]
  },
  {
   "cell_type": "code",
   "execution_count": 3,
   "metadata": {},
   "outputs": [
    {
     "data": {
      "text/plain": [
       "BRD          0.0\n",
       "MBRD         0.0\n",
       "CMP          0.0\n",
       "SSGRP        0.0\n",
       "SGRP         0.0\n",
       "GRP          0.0\n",
       "PRICE        0.0\n",
       "VALUE        0.0\n",
       "QTY          0.0\n",
       "BILL_AMT     0.0\n",
       "BILL_ID      0.0\n",
       "DAY          0.0\n",
       "STORECODE    0.0\n",
       "MONTH        0.0\n",
       "dtype: float64"
      ]
     },
     "execution_count": 3,
     "metadata": {},
     "output_type": "execute_result"
    }
   ],
   "source": [
    "ideal.isnull().mean().sort_values(ascending=False)   # no null values in dataset\n",
    "working.isnull().mean().sort_values(ascending=False)"
   ]
  },
  {
   "cell_type": "code",
   "execution_count": 4,
   "metadata": {},
   "outputs": [
    {
     "data": {
      "text/html": [
       "<div>\n",
       "<style scoped>\n",
       "    .dataframe tbody tr th:only-of-type {\n",
       "        vertical-align: middle;\n",
       "    }\n",
       "\n",
       "    .dataframe tbody tr th {\n",
       "        vertical-align: top;\n",
       "    }\n",
       "\n",
       "    .dataframe thead th {\n",
       "        text-align: right;\n",
       "    }\n",
       "</style>\n",
       "<table border=\"1\" class=\"dataframe\">\n",
       "  <thead>\n",
       "    <tr style=\"text-align: right;\">\n",
       "      <th></th>\n",
       "      <th>column_type</th>\n",
       "      <th>count</th>\n",
       "    </tr>\n",
       "  </thead>\n",
       "  <tbody>\n",
       "    <tr>\n",
       "      <td>0</td>\n",
       "      <td>int64</td>\n",
       "      <td>2</td>\n",
       "    </tr>\n",
       "    <tr>\n",
       "      <td>1</td>\n",
       "      <td>object</td>\n",
       "      <td>8</td>\n",
       "    </tr>\n",
       "  </tbody>\n",
       "</table>\n",
       "</div>"
      ],
      "text/plain": [
       "  column_type  count\n",
       "0       int64      2\n",
       "1      object      8"
      ]
     },
     "execution_count": 4,
     "metadata": {},
     "output_type": "execute_result"
    }
   ],
   "source": [
    "ideal_type=ideal.dtypes.reset_index()\n",
    "ideal_type.columns=[\"count\",\"column_type\"]\n",
    "ideal_type.groupby(\"column_type\").aggregate(\"count\").reset_index()"
   ]
  },
  {
   "cell_type": "code",
   "execution_count": 5,
   "metadata": {},
   "outputs": [
    {
     "data": {
      "text/html": [
       "<div>\n",
       "<style scoped>\n",
       "    .dataframe tbody tr th:only-of-type {\n",
       "        vertical-align: middle;\n",
       "    }\n",
       "\n",
       "    .dataframe tbody tr th {\n",
       "        vertical-align: top;\n",
       "    }\n",
       "\n",
       "    .dataframe thead th {\n",
       "        text-align: right;\n",
       "    }\n",
       "</style>\n",
       "<table border=\"1\" class=\"dataframe\">\n",
       "  <thead>\n",
       "    <tr style=\"text-align: right;\">\n",
       "      <th></th>\n",
       "      <th>column_type</th>\n",
       "      <th>count</th>\n",
       "    </tr>\n",
       "  </thead>\n",
       "  <tbody>\n",
       "    <tr>\n",
       "      <td>0</td>\n",
       "      <td>int64</td>\n",
       "      <td>1</td>\n",
       "    </tr>\n",
       "    <tr>\n",
       "      <td>1</td>\n",
       "      <td>float64</td>\n",
       "      <td>4</td>\n",
       "    </tr>\n",
       "    <tr>\n",
       "      <td>2</td>\n",
       "      <td>object</td>\n",
       "      <td>9</td>\n",
       "    </tr>\n",
       "  </tbody>\n",
       "</table>\n",
       "</div>"
      ],
      "text/plain": [
       "  column_type  count\n",
       "0       int64      1\n",
       "1     float64      4\n",
       "2      object      9"
      ]
     },
     "execution_count": 5,
     "metadata": {},
     "output_type": "execute_result"
    }
   ],
   "source": [
    "working_type=working.dtypes.reset_index()\n",
    "working_type.columns=[\"count\",\"column_type\"]\n",
    "working_type.groupby(\"column_type\").aggregate(\"count\").reset_index()"
   ]
  },
  {
   "cell_type": "code",
   "execution_count": 6,
   "metadata": {},
   "outputs": [],
   "source": [
    "ideal_grps= ideal.groupby([\"GRP\"])[\"QTY\",\"VALUE\"].aggregate({\"QTY\":'count',\"VALUE\":'sum'})\n",
    "wrkg_grps= working.groupby([\"GRP\"])[\"QTY\",\"VALUE\"].aggregate({\"QTY\":'count',\"VALUE\":'sum'})\n",
    "ideal_grps.columns=[\"QTYidl\",\"VALidl\"]\n",
    "wrkg_grps.columns=[\"QTYwrk\",\"VALwrk\"]"
   ]
  },
  {
   "cell_type": "code",
   "execution_count": 7,
   "metadata": {},
   "outputs": [
    {
     "name": "stdout",
     "output_type": "stream",
     "text": [
      "CONFECTIONERY - JELLY CUBE\n",
      "MOSQUITO REPELLANT EQUIP(4/97)\n"
     ]
    }
   ],
   "source": [
    "idl_wrk_grps= pd.merge(ideal_grps,wrkg_grps,on=\"GRP\",how=\"inner\")\n",
    "# groups removed during merge\n",
    "lst1=list(ideal_grps.index)\n",
    "lst2=list(idl_wrk_grps.index)\n",
    "drp=[] # list of groups removed\n",
    "for item in lst1:\n",
    "    if item in lst2:\n",
    "        pass\n",
    "    else:\n",
    "        print(item)\n",
    "        drp.append(item)"
   ]
  },
  {
   "cell_type": "code",
   "execution_count": 8,
   "metadata": {},
   "outputs": [
    {
     "data": {
      "text/html": [
       "<div>\n",
       "<style scoped>\n",
       "    .dataframe tbody tr th:only-of-type {\n",
       "        vertical-align: middle;\n",
       "    }\n",
       "\n",
       "    .dataframe tbody tr th {\n",
       "        vertical-align: top;\n",
       "    }\n",
       "\n",
       "    .dataframe thead th {\n",
       "        text-align: right;\n",
       "    }\n",
       "</style>\n",
       "<table border=\"1\" class=\"dataframe\">\n",
       "  <thead>\n",
       "    <tr style=\"text-align: right;\">\n",
       "      <th></th>\n",
       "      <th>QTYidl</th>\n",
       "      <th>VALidl</th>\n",
       "      <th>QTYwrk</th>\n",
       "      <th>VALwrk</th>\n",
       "    </tr>\n",
       "    <tr>\n",
       "      <th>GRP</th>\n",
       "      <th></th>\n",
       "      <th></th>\n",
       "      <th></th>\n",
       "      <th></th>\n",
       "    </tr>\n",
       "  </thead>\n",
       "  <tbody>\n",
       "    <tr>\n",
       "      <td>AFTER SHAVE LOTIONS</td>\n",
       "      <td>4</td>\n",
       "      <td>614</td>\n",
       "      <td>3</td>\n",
       "      <td>355.0</td>\n",
       "    </tr>\n",
       "    <tr>\n",
       "      <td>AGARBATTI &amp; DHOOPBATTI</td>\n",
       "      <td>220</td>\n",
       "      <td>50302</td>\n",
       "      <td>118</td>\n",
       "      <td>6065.0</td>\n",
       "    </tr>\n",
       "    <tr>\n",
       "      <td>ALL AIR FRESHNERS(01/03)</td>\n",
       "      <td>61</td>\n",
       "      <td>6956</td>\n",
       "      <td>86</td>\n",
       "      <td>11907.5</td>\n",
       "    </tr>\n",
       "    <tr>\n",
       "      <td>ALL IODISED SALT</td>\n",
       "      <td>88</td>\n",
       "      <td>58022</td>\n",
       "      <td>450</td>\n",
       "      <td>12138.5</td>\n",
       "    </tr>\n",
       "    <tr>\n",
       "      <td>ANTACIDS</td>\n",
       "      <td>30</td>\n",
       "      <td>9331</td>\n",
       "      <td>63</td>\n",
       "      <td>1509.6</td>\n",
       "    </tr>\n",
       "  </tbody>\n",
       "</table>\n",
       "</div>"
      ],
      "text/plain": [
       "                          QTYidl  VALidl  QTYwrk   VALwrk\n",
       "GRP                                                      \n",
       "AFTER SHAVE LOTIONS            4     614       3    355.0\n",
       "AGARBATTI & DHOOPBATTI       220   50302     118   6065.0\n",
       "ALL AIR FRESHNERS(01/03)      61    6956      86  11907.5\n",
       "ALL IODISED SALT              88   58022     450  12138.5\n",
       "ANTACIDS                      30    9331      63   1509.6"
      ]
     },
     "execution_count": 8,
     "metadata": {},
     "output_type": "execute_result"
    }
   ],
   "source": [
    "idl_wrk_grps.head()"
   ]
  },
  {
   "cell_type": "markdown",
   "metadata": {},
   "source": [
    "#### data transformation for IDA"
   ]
  },
  {
   "cell_type": "code",
   "execution_count": 9,
   "metadata": {},
   "outputs": [],
   "source": [
    "# log transformation\n",
    "from feature_engine import variable_transformers as vt # import log_transformer\n",
    "tf = vt.LogTransformer(variables = ['QTYidl','VALidl','QTYwrk','VALwrk']) # set up variable transformer\n",
    " \n",
    "tf.fit(idl_wrk_grps) # fit the transformer\n",
    "log_idl_wrk= tf.transform(idl_wrk_grps) # transform the data"
   ]
  },
  {
   "cell_type": "code",
   "execution_count": 10,
   "metadata": {},
   "outputs": [
    {
     "data": {
      "text/plain": [
       "Ttest_indResult(statistic=-7.418656759157034e-16, pvalue=0.9999999999999994)"
      ]
     },
     "execution_count": 10,
     "metadata": {},
     "output_type": "execute_result"
    }
   ],
   "source": [
    "# scaling the data\n",
    "from sklearn.preprocessing import StandardScaler\n",
    "scaler=StandardScaler()\n",
    "scale_log_data=scaler.fit_transform(log_idl_wrk)\n",
    "scale_log_data=pd.DataFrame(scale_log_data)\n",
    "scale_log_data.columns=log_idl_wrk.columns\n",
    "stats.ttest_ind(scale_log_data.QTYidl,scale_log_data.QTYwrk) # t-test of distribution of ideal and working datasets"
   ]
  },
  {
   "cell_type": "code",
   "execution_count": 11,
   "metadata": {},
   "outputs": [
    {
     "data": {
      "text/plain": [
       "Ttest_indResult(statistic=-7.877906939485803e-15, pvalue=0.9999999999999937)"
      ]
     },
     "execution_count": 11,
     "metadata": {},
     "output_type": "execute_result"
    }
   ],
   "source": [
    "stats.ttest_ind(scale_log_data.VALidl,scale_log_data.VALwrk)"
   ]
  },
  {
   "cell_type": "markdown",
   "metadata": {},
   "source": [
    "#### plotting the results"
   ]
  },
  {
   "cell_type": "code",
   "execution_count": 12,
   "metadata": {},
   "outputs": [
    {
     "data": {
      "text/html": [
       "<div>\n",
       "<style scoped>\n",
       "    .dataframe tbody tr th:only-of-type {\n",
       "        vertical-align: middle;\n",
       "    }\n",
       "\n",
       "    .dataframe tbody tr th {\n",
       "        vertical-align: top;\n",
       "    }\n",
       "\n",
       "    .dataframe thead th {\n",
       "        text-align: right;\n",
       "    }\n",
       "</style>\n",
       "<table border=\"1\" class=\"dataframe\">\n",
       "  <thead>\n",
       "    <tr style=\"text-align: right;\">\n",
       "      <th></th>\n",
       "      <th>QTYidl</th>\n",
       "      <th>VALidl</th>\n",
       "      <th>QTYwrk</th>\n",
       "      <th>VALwrk</th>\n",
       "    </tr>\n",
       "    <tr>\n",
       "      <th>GRP</th>\n",
       "      <th></th>\n",
       "      <th></th>\n",
       "      <th></th>\n",
       "      <th></th>\n",
       "    </tr>\n",
       "  </thead>\n",
       "  <tbody>\n",
       "    <tr>\n",
       "      <td>AFTER SHAVE LOTIONS</td>\n",
       "      <td>-2.388068</td>\n",
       "      <td>-1.898468</td>\n",
       "      <td>-2.217616</td>\n",
       "      <td>-1.861352</td>\n",
       "    </tr>\n",
       "    <tr>\n",
       "      <td>AGARBATTI &amp; DHOOPBATTI</td>\n",
       "      <td>0.731776</td>\n",
       "      <td>0.611232</td>\n",
       "      <td>0.057451</td>\n",
       "      <td>-0.172280</td>\n",
       "    </tr>\n",
       "    <tr>\n",
       "      <td>ALL AIR FRESHNERS(01/03)</td>\n",
       "      <td>-0.266891</td>\n",
       "      <td>-0.515756</td>\n",
       "      <td>-0.138539</td>\n",
       "      <td>0.229213</td>\n",
       "    </tr>\n",
       "    <tr>\n",
       "      <td>ALL IODISED SALT</td>\n",
       "      <td>0.018412</td>\n",
       "      <td>0.692563</td>\n",
       "      <td>0.886770</td>\n",
       "      <td>0.240647</td>\n",
       "    </tr>\n",
       "    <tr>\n",
       "      <td>ANTACIDS</td>\n",
       "      <td>-0.819398</td>\n",
       "      <td>-0.348433</td>\n",
       "      <td>-0.331354</td>\n",
       "      <td>-0.999917</td>\n",
       "    </tr>\n",
       "  </tbody>\n",
       "</table>\n",
       "</div>"
      ],
      "text/plain": [
       "                            QTYidl    VALidl    QTYwrk    VALwrk\n",
       "GRP                                                             \n",
       "AFTER SHAVE LOTIONS      -2.388068 -1.898468 -2.217616 -1.861352\n",
       "AGARBATTI & DHOOPBATTI    0.731776  0.611232  0.057451 -0.172280\n",
       "ALL AIR FRESHNERS(01/03) -0.266891 -0.515756 -0.138539  0.229213\n",
       "ALL IODISED SALT          0.018412  0.692563  0.886770  0.240647\n",
       "ANTACIDS                 -0.819398 -0.348433 -0.331354 -0.999917"
      ]
     },
     "execution_count": 12,
     "metadata": {},
     "output_type": "execute_result"
    }
   ],
   "source": [
    "scale_log_data.index=log_idl_wrk.index # transferring the index values to the scaled data\n",
    "scale_log_data.head()"
   ]
  },
  {
   "cell_type": "code",
   "execution_count": 13,
   "metadata": {},
   "outputs": [
    {
     "data": {
      "image/png": "[encoded data removed]",
      "text/plain": [
       "<Figure size 432x288 with 1 Axes>"
      ]
     },
     "metadata": {
      "needs_background": "light"
     },
     "output_type": "display_data"
    }
   ],
   "source": [
    "fig, ax = plt.subplots()\n",
    "ax=sns.scatterplot(scale_log_data.QTYidl,scale_log_data.QTYwrk)"
   ]
  },
  {
   "cell_type": "code",
   "execution_count": 14,
   "metadata": {},
   "outputs": [
    {
     "data": {
      "image/png": "[encoded data removed]",
      "text/plain": [
       "<Figure size 432x288 with 1 Axes>"
      ]
     },
     "metadata": {
      "needs_background": "light"
     },
     "output_type": "display_data"
    }
   ],
   "source": [
    "fig, ax = plt.subplots()\n",
    "ax=sns.scatterplot(scale_log_data.VALidl,scale_log_data.VALwrk)"
   ]
  },
  {
   "cell_type": "code",
   "execution_count": 15,
   "metadata": {},
   "outputs": [
    {
     "data": {
      "text/html": [
       "<div>\n",
       "<style scoped>\n",
       "    .dataframe tbody tr th:only-of-type {\n",
       "        vertical-align: middle;\n",
       "    }\n",
       "\n",
       "    .dataframe tbody tr th {\n",
       "        vertical-align: top;\n",
       "    }\n",
       "\n",
       "    .dataframe thead th {\n",
       "        text-align: right;\n",
       "    }\n",
       "</style>\n",
       "<table border=\"1\" class=\"dataframe\">\n",
       "  <thead>\n",
       "    <tr style=\"text-align: right;\">\n",
       "      <th></th>\n",
       "      <th>QTYidl</th>\n",
       "      <th>VALidl</th>\n",
       "      <th>QTYwrk</th>\n",
       "      <th>VALwrk</th>\n",
       "    </tr>\n",
       "  </thead>\n",
       "  <tbody>\n",
       "    <tr>\n",
       "      <td>QTYidl</td>\n",
       "      <td>1.000000</td>\n",
       "      <td>0.815613</td>\n",
       "      <td>0.804319</td>\n",
       "      <td>0.627024</td>\n",
       "    </tr>\n",
       "    <tr>\n",
       "      <td>VALidl</td>\n",
       "      <td>0.815613</td>\n",
       "      <td>1.000000</td>\n",
       "      <td>0.870127</td>\n",
       "      <td>0.807067</td>\n",
       "    </tr>\n",
       "    <tr>\n",
       "      <td>QTYwrk</td>\n",
       "      <td>0.804319</td>\n",
       "      <td>0.870127</td>\n",
       "      <td>1.000000</td>\n",
       "      <td>0.893612</td>\n",
       "    </tr>\n",
       "    <tr>\n",
       "      <td>VALwrk</td>\n",
       "      <td>0.627024</td>\n",
       "      <td>0.807067</td>\n",
       "      <td>0.893612</td>\n",
       "      <td>1.000000</td>\n",
       "    </tr>\n",
       "  </tbody>\n",
       "</table>\n",
       "</div>"
      ],
      "text/plain": [
       "          QTYidl    VALidl    QTYwrk    VALwrk\n",
       "QTYidl  1.000000  0.815613  0.804319  0.627024\n",
       "VALidl  0.815613  1.000000  0.870127  0.807067\n",
       "QTYwrk  0.804319  0.870127  1.000000  0.893612\n",
       "VALwrk  0.627024  0.807067  0.893612  1.000000"
      ]
     },
     "execution_count": 15,
     "metadata": {},
     "output_type": "execute_result"
    }
   ],
   "source": [
    "scale_log_data.corr()"
   ]
  },
  {
   "cell_type": "code",
   "execution_count": 16,
   "metadata": {},
   "outputs": [
    {
     "data": {
      "image/png": "[encoded data removed]",
      "text/plain": [
       "<Figure size 432x288 with 1 Axes>"
      ]
     },
     "metadata": {
      "needs_background": "light"
     },
     "output_type": "display_data"
    }
   ],
   "source": [
    "fig, ax = plt.subplots()\n",
    "ax=sns.scatterplot(scale_log_data.QTYidl,scale_log_data.VALidl)"
   ]
  },
  {
   "cell_type": "markdown",
   "metadata": {},
   "source": [
    "#### analysis of quantites sold"
   ]
  },
  {
   "cell_type": "code",
   "execution_count": 17,
   "metadata": {},
   "outputs": [
    {
     "data": {
      "text/html": [
       "<div>\n",
       "<style scoped>\n",
       "    .dataframe tbody tr th:only-of-type {\n",
       "        vertical-align: middle;\n",
       "    }\n",
       "\n",
       "    .dataframe tbody tr th {\n",
       "        vertical-align: top;\n",
       "    }\n",
       "\n",
       "    .dataframe thead th {\n",
       "        text-align: right;\n",
       "    }\n",
       "</style>\n",
       "<table border=\"1\" class=\"dataframe\">\n",
       "  <thead>\n",
       "    <tr style=\"text-align: right;\">\n",
       "      <th></th>\n",
       "      <th>std</th>\n",
       "      <th>mean</th>\n",
       "      <th>coeff_var</th>\n",
       "    </tr>\n",
       "    <tr>\n",
       "      <th>STORECODE</th>\n",
       "      <th></th>\n",
       "      <th></th>\n",
       "      <th></th>\n",
       "    </tr>\n",
       "  </thead>\n",
       "  <tbody>\n",
       "    <tr>\n",
       "      <td>P1</td>\n",
       "      <td>19.553346</td>\n",
       "      <td>353.666667</td>\n",
       "      <td>0.055288</td>\n",
       "    </tr>\n",
       "    <tr>\n",
       "      <td>P10</td>\n",
       "      <td>23.028967</td>\n",
       "      <td>502.666667</td>\n",
       "      <td>0.045814</td>\n",
       "    </tr>\n",
       "    <tr>\n",
       "      <td>P2</td>\n",
       "      <td>16.502525</td>\n",
       "      <td>490.333333</td>\n",
       "      <td>0.033656</td>\n",
       "    </tr>\n",
       "    <tr>\n",
       "      <td>P3</td>\n",
       "      <td>35.679126</td>\n",
       "      <td>454.000000</td>\n",
       "      <td>0.078588</td>\n",
       "    </tr>\n",
       "    <tr>\n",
       "      <td>P4</td>\n",
       "      <td>16.165808</td>\n",
       "      <td>484.666667</td>\n",
       "      <td>0.033354</td>\n",
       "    </tr>\n",
       "  </tbody>\n",
       "</table>\n",
       "</div>"
      ],
      "text/plain": [
       "                 std        mean  coeff_var\n",
       "STORECODE                                  \n",
       "P1         19.553346  353.666667   0.055288\n",
       "P10        23.028967  502.666667   0.045814\n",
       "P2         16.502525  490.333333   0.033656\n",
       "P3         35.679126  454.000000   0.078588\n",
       "P4         16.165808  484.666667   0.033354"
      ]
     },
     "execution_count": 17,
     "metadata": {},
     "output_type": "execute_result"
    }
   ],
   "source": [
    "# quantites sold per month per store\n",
    "ideal_store=ideal.groupby([\"MONTH\",\"STORECODE\"])[\"QTY\"].count().unstack()\n",
    "a=ideal_store.std(axis=0)\n",
    "b=ideal_store.mean(axis=0)\n",
    "ideal_stat=pd.concat([a,b],axis=1)\n",
    "ideal_stat.columns=[\"std\",\"mean\"]\n",
    "ideal_stat[\"coeff_var\"]= ideal_stat[\"std\"]/ideal_stat[\"mean\"]\n",
    "\n",
    "ideal_stat.head()"
   ]
  },
  {
   "cell_type": "code",
   "execution_count": 18,
   "metadata": {},
   "outputs": [
    {
     "data": {
      "text/html": [
       "<div>\n",
       "<style scoped>\n",
       "    .dataframe tbody tr th:only-of-type {\n",
       "        vertical-align: middle;\n",
       "    }\n",
       "\n",
       "    .dataframe tbody tr th {\n",
       "        vertical-align: top;\n",
       "    }\n",
       "\n",
       "    .dataframe thead th {\n",
       "        text-align: right;\n",
       "    }\n",
       "</style>\n",
       "<table border=\"1\" class=\"dataframe\">\n",
       "  <thead>\n",
       "    <tr style=\"text-align: right;\">\n",
       "      <th></th>\n",
       "      <th>std</th>\n",
       "      <th>mean</th>\n",
       "      <th>coeff_var</th>\n",
       "    </tr>\n",
       "    <tr>\n",
       "      <th>STORECODE</th>\n",
       "      <th></th>\n",
       "      <th></th>\n",
       "      <th></th>\n",
       "    </tr>\n",
       "  </thead>\n",
       "  <tbody>\n",
       "    <tr>\n",
       "      <td>N8</td>\n",
       "      <td>137.502727</td>\n",
       "      <td>376.000000</td>\n",
       "      <td>0.365699</td>\n",
       "    </tr>\n",
       "    <tr>\n",
       "      <td>N6</td>\n",
       "      <td>409.146673</td>\n",
       "      <td>395.000000</td>\n",
       "      <td>1.035814</td>\n",
       "    </tr>\n",
       "    <tr>\n",
       "      <td>N2</td>\n",
       "      <td>94.775173</td>\n",
       "      <td>443.666667</td>\n",
       "      <td>0.213618</td>\n",
       "    </tr>\n",
       "    <tr>\n",
       "      <td>N9</td>\n",
       "      <td>364.489140</td>\n",
       "      <td>509.333333</td>\n",
       "      <td>0.715620</td>\n",
       "    </tr>\n",
       "    <tr>\n",
       "      <td>N3</td>\n",
       "      <td>225.867956</td>\n",
       "      <td>597.666667</td>\n",
       "      <td>0.377916</td>\n",
       "    </tr>\n",
       "  </tbody>\n",
       "</table>\n",
       "</div>"
      ],
      "text/plain": [
       "                  std        mean  coeff_var\n",
       "STORECODE                                   \n",
       "N8         137.502727  376.000000   0.365699\n",
       "N6         409.146673  395.000000   1.035814\n",
       "N2          94.775173  443.666667   0.213618\n",
       "N9         364.489140  509.333333   0.715620\n",
       "N3         225.867956  597.666667   0.377916"
      ]
     },
     "execution_count": 18,
     "metadata": {},
     "output_type": "execute_result"
    }
   ],
   "source": [
    "#quantites sold per month per store\n",
    "working_store=working.groupby([\"MONTH\",\"STORECODE\"])[\"QTY\"].count().unstack()\n",
    "a=working_store.std(axis=0)\n",
    "b=working_store.mean(axis=0)\n",
    "working_stat=pd.concat([a,b],axis=1)\n",
    "working_stat.columns=[\"std\",\"mean\"]\n",
    "working_stat[\"coeff_var\"]=working_stat[\"std\"]/working_stat[\"mean\"]\n",
    "\n",
    "working_stat.sort_values(\"mean\").head()"
   ]
  },
  {
   "cell_type": "code",
   "execution_count": 23,
   "metadata": {},
   "outputs": [
    {
     "data": {
      "text/html": [
       "<div>\n",
       "<style scoped>\n",
       "    .dataframe tbody tr th:only-of-type {\n",
       "        vertical-align: middle;\n",
       "    }\n",
       "\n",
       "    .dataframe tbody tr th {\n",
       "        vertical-align: top;\n",
       "    }\n",
       "\n",
       "    .dataframe thead th {\n",
       "        text-align: right;\n",
       "    }\n",
       "</style>\n",
       "<table border=\"1\" class=\"dataframe\">\n",
       "  <thead>\n",
       "    <tr style=\"text-align: right;\">\n",
       "      <th></th>\n",
       "      <th>STORECODE</th>\n",
       "      <th>N1</th>\n",
       "      <th>N10</th>\n",
       "      <th>N2</th>\n",
       "      <th>N3</th>\n",
       "      <th>N4</th>\n",
       "      <th>N5</th>\n",
       "      <th>N6</th>\n",
       "      <th>N7</th>\n",
       "      <th>N8</th>\n",
       "      <th>N9</th>\n",
       "    </tr>\n",
       "    <tr>\n",
       "      <th>MONTH</th>\n",
       "      <th>DAY</th>\n",
       "      <th></th>\n",
       "      <th></th>\n",
       "      <th></th>\n",
       "      <th></th>\n",
       "      <th></th>\n",
       "      <th></th>\n",
       "      <th></th>\n",
       "      <th></th>\n",
       "      <th></th>\n",
       "      <th></th>\n",
       "    </tr>\n",
       "  </thead>\n",
       "  <tbody>\n",
       "    <tr>\n",
       "      <td rowspan=\"5\" valign=\"top\">M1</td>\n",
       "      <td>1</td>\n",
       "      <td>0.0</td>\n",
       "      <td>23.0</td>\n",
       "      <td>30.0</td>\n",
       "      <td>35.0</td>\n",
       "      <td>56.0</td>\n",
       "      <td>0.0</td>\n",
       "      <td>5.0</td>\n",
       "      <td>74.0</td>\n",
       "      <td>21.0</td>\n",
       "      <td>0.0</td>\n",
       "    </tr>\n",
       "    <tr>\n",
       "      <td>2</td>\n",
       "      <td>0.0</td>\n",
       "      <td>4.0</td>\n",
       "      <td>23.0</td>\n",
       "      <td>0.0</td>\n",
       "      <td>79.0</td>\n",
       "      <td>56.0</td>\n",
       "      <td>3.0</td>\n",
       "      <td>63.0</td>\n",
       "      <td>11.0</td>\n",
       "      <td>33.0</td>\n",
       "    </tr>\n",
       "    <tr>\n",
       "      <td>3</td>\n",
       "      <td>0.0</td>\n",
       "      <td>10.0</td>\n",
       "      <td>20.0</td>\n",
       "      <td>71.0</td>\n",
       "      <td>40.0</td>\n",
       "      <td>43.0</td>\n",
       "      <td>4.0</td>\n",
       "      <td>76.0</td>\n",
       "      <td>11.0</td>\n",
       "      <td>46.0</td>\n",
       "    </tr>\n",
       "    <tr>\n",
       "      <td>4</td>\n",
       "      <td>128.0</td>\n",
       "      <td>0.0</td>\n",
       "      <td>18.0</td>\n",
       "      <td>38.0</td>\n",
       "      <td>95.0</td>\n",
       "      <td>45.0</td>\n",
       "      <td>0.0</td>\n",
       "      <td>102.0</td>\n",
       "      <td>0.0</td>\n",
       "      <td>34.0</td>\n",
       "    </tr>\n",
       "    <tr>\n",
       "      <td>5</td>\n",
       "      <td>120.0</td>\n",
       "      <td>13.0</td>\n",
       "      <td>39.0</td>\n",
       "      <td>41.0</td>\n",
       "      <td>24.0</td>\n",
       "      <td>34.0</td>\n",
       "      <td>0.0</td>\n",
       "      <td>79.0</td>\n",
       "      <td>2.0</td>\n",
       "      <td>0.0</td>\n",
       "    </tr>\n",
       "  </tbody>\n",
       "</table>\n",
       "</div>"
      ],
      "text/plain": [
       "STORECODE     N1   N10    N2    N3    N4    N5   N6     N7    N8    N9\n",
       "MONTH DAY                                                             \n",
       "M1    1      0.0  23.0  30.0  35.0  56.0   0.0  5.0   74.0  21.0   0.0\n",
       "      2      0.0   4.0  23.0   0.0  79.0  56.0  3.0   63.0  11.0  33.0\n",
       "      3      0.0  10.0  20.0  71.0  40.0  43.0  4.0   76.0  11.0  46.0\n",
       "      4    128.0   0.0  18.0  38.0  95.0  45.0  0.0  102.0   0.0  34.0\n",
       "      5    120.0  13.0  39.0  41.0  24.0  34.0  0.0   79.0   2.0   0.0"
      ]
     },
     "execution_count": 23,
     "metadata": {},
     "output_type": "execute_result"
    },
    {
     "data": {
      "image/png": "[encoded data removed]",
      "text/plain": [
       "<Figure size 432x288 with 1 Axes>"
      ]
     },
     "metadata": {
      "needs_background": "light"
     },
     "output_type": "display_data"
    }
   ],
   "source": [
    "daywise=working.groupby([\"MONTH\",\"DAY\",\"STORECODE\"])[\"QTY\"].count().unstack()\n",
    "new_day=daywise.fillna(0)\n",
    "new_day.plot.hist()\n",
    "plt.title(\"Daywise sales distribution\")\n",
    "new_day.head()"
   ]
  },
  {
   "cell_type": "code",
   "execution_count": 24,
   "metadata": {},
   "outputs": [
    {
     "name": "stdout",
     "output_type": "stream",
     "text": [
      "In 3 months store N3 was open for the following days below\n",
      "64\n",
      "In 3 months store N4 was open for the following days below\n",
      "71\n",
      "In 3 months store N5 was open for the following days below\n",
      "68\n",
      "In 3 months store N8 was open for the following days below\n",
      "69\n",
      "In 3 months store N10 was open for the following days below\n",
      "75\n",
      "In 3 months store N2 was open for the following days below\n",
      "61\n",
      "In 3 months store N1 was open for the following days below\n",
      "68\n",
      "In 3 months store N6 was open for the following days below\n",
      "62\n",
      "In 3 months store N9 was open for the following days below\n",
      "57\n",
      "In 3 months store N7 was open for the following days below\n",
      "68\n"
     ]
    }
   ],
   "source": [
    "# Number of days the stores were open\n",
    "x=working.groupby([\"STORECODE\",\"MONTH\"])[\"DAY\"].unique()\n",
    "zipped=zip(x.index,x.values) # zip the index and values of seperate lists in 1 tuple\n",
    "lst=list(set(working.STORECODE))\n",
    "\n",
    "for item in lst:       \n",
    "    print(f\"In 3 months store {item} was open for the following days below\" )\n",
    "    zipped=zip(x.index,x.values) # call zipped again each time as iterators cycle only once\n",
    "    store2=[]\n",
    "    for idx,val in zipped:          \n",
    "        if item==idx[0]:\n",
    "            sto=list(val)\n",
    "            store2.append(len(sto))            \n",
    "    print(functools.reduce(lambda a,b: a+b,store2)) # lambda sum function to find sum of items in list      \n",
    "    "
   ]
  },
  {
   "cell_type": "code",
   "execution_count": 25,
   "metadata": {},
   "outputs": [
    {
     "data": {
      "image/png": "[encoded data removed]",
      "text/plain": [
       "<Figure size 720x360 with 1 Axes>"
      ]
     },
     "metadata": {
      "needs_background": "light"
     },
     "output_type": "display_data"
    }
   ],
   "source": [
    "# plot comparison of quantity of items between ideal and working \n",
    "idl_grp=ideal.groupby('GRP')['QTY','VALUE'].aggregate({\"QTY\":\"count\",\"VALUE\":\"sum\"})\n",
    "wrk_grp=working.groupby('GRP')['QTY','VALUE'].aggregate({\"QTY\":\"count\",\"VALUE\":\"sum\"})\n",
    "idl_wrk_grp=pd.merge(idl_grp,wrk_grp,left_index=True,right_index=True,suffixes=[\"idl\",\"wrk\"])\n",
    "rev=idl_wrk_grp.drop('BISCUITS - CORE & NON CORE')\n",
    "high_idl_val=rev[rev.VALUEidl>80000]\n",
    "import matplotlib.pyplot as plt\n",
    "fig,axs=plt.subplots(1,1,figsize=(10,5))\n",
    "ax=sns.scatterplot(high_idl_val.QTYidl,high_idl_val.QTYwrk,s=200,hue=high_idl_val.index)\n",
    "plt.legend(bbox_to_anchor=(1.04,1),loc=\"best\")# bbox_to_anchor sets legend outside plot\n",
    "plt.title(\"ideal vs working quantity of high value items\")\n",
    "plt.savefig(\"high_quantity.png\")"
   ]
  },
  {
   "cell_type": "code",
   "execution_count": 35,
   "metadata": {},
   "outputs": [
    {
     "data": {
      "text/plain": [
       "Index(['MONTH', 'STORECODE', 'QTY', 'VALUE', 'GRP', 'SGRP', 'SSGRP', 'CMP',\n",
       "       'MBRD', 'BRD'],\n",
       "      dtype='object')"
      ]
     },
     "execution_count": 35,
     "metadata": {},
     "output_type": "execute_result"
    }
   ],
   "source": [
    "ideal.columns"
   ]
  },
  {
   "cell_type": "code",
   "execution_count": 27,
   "metadata": {},
   "outputs": [],
   "source": [
    "y_ideal=ideal[[\"VALUE\"]]\n",
    "X_ideal=ideal.drop([\"SGRP\",\"SSGRP\",\"BRD\",\"VALUE\"],axis=1)"
   ]
  },
  {
   "cell_type": "code",
   "execution_count": 24,
   "metadata": {},
   "outputs": [
    {
     "data": {
      "text/html": [
       "<div>\n",
       "<style scoped>\n",
       "    .dataframe tbody tr th:only-of-type {\n",
       "        vertical-align: middle;\n",
       "    }\n",
       "\n",
       "    .dataframe tbody tr th {\n",
       "        vertical-align: top;\n",
       "    }\n",
       "\n",
       "    .dataframe thead th {\n",
       "        text-align: right;\n",
       "    }\n",
       "</style>\n",
       "<table border=\"1\" class=\"dataframe\">\n",
       "  <thead>\n",
       "    <tr style=\"text-align: right;\">\n",
       "      <th>STORECODE</th>\n",
       "      <th>P1</th>\n",
       "      <th>P10</th>\n",
       "      <th>P2</th>\n",
       "      <th>P3</th>\n",
       "      <th>P4</th>\n",
       "      <th>P5</th>\n",
       "      <th>P6</th>\n",
       "      <th>P7</th>\n",
       "      <th>P8</th>\n",
       "      <th>P9</th>\n",
       "    </tr>\n",
       "    <tr>\n",
       "      <th>MONTH</th>\n",
       "      <th></th>\n",
       "      <th></th>\n",
       "      <th></th>\n",
       "      <th></th>\n",
       "      <th></th>\n",
       "      <th></th>\n",
       "      <th></th>\n",
       "      <th></th>\n",
       "      <th></th>\n",
       "      <th></th>\n",
       "    </tr>\n",
       "  </thead>\n",
       "  <tbody>\n",
       "    <tr>\n",
       "      <td>M1</td>\n",
       "      <td>352</td>\n",
       "      <td>525</td>\n",
       "      <td>490</td>\n",
       "      <td>495</td>\n",
       "      <td>466</td>\n",
       "      <td>210</td>\n",
       "      <td>703</td>\n",
       "      <td>285</td>\n",
       "      <td>880</td>\n",
       "      <td>398</td>\n",
       "    </tr>\n",
       "    <tr>\n",
       "      <td>M2</td>\n",
       "      <td>374</td>\n",
       "      <td>504</td>\n",
       "      <td>507</td>\n",
       "      <td>437</td>\n",
       "      <td>494</td>\n",
       "      <td>213</td>\n",
       "      <td>702</td>\n",
       "      <td>282</td>\n",
       "      <td>896</td>\n",
       "      <td>407</td>\n",
       "    </tr>\n",
       "    <tr>\n",
       "      <td>M3</td>\n",
       "      <td>335</td>\n",
       "      <td>479</td>\n",
       "      <td>474</td>\n",
       "      <td>430</td>\n",
       "      <td>494</td>\n",
       "      <td>204</td>\n",
       "      <td>692</td>\n",
       "      <td>283</td>\n",
       "      <td>866</td>\n",
       "      <td>383</td>\n",
       "    </tr>\n",
       "  </tbody>\n",
       "</table>\n",
       "</div>"
      ],
      "text/plain": [
       "STORECODE   P1  P10   P2   P3   P4   P5   P6   P7   P8   P9\n",
       "MONTH                                                      \n",
       "M1         352  525  490  495  466  210  703  285  880  398\n",
       "M2         374  504  507  437  494  213  702  282  896  407\n",
       "M3         335  479  474  430  494  204  692  283  866  383"
      ]
     },
     "execution_count": 24,
     "metadata": {},
     "output_type": "execute_result"
    }
   ],
   "source": [
    "X_ideal.groupby([\"MONTH\",\"STORECODE\"])[\"QTY\"].count().unstack()"
   ]
  },
  {
   "cell_type": "code",
   "execution_count": 46,
   "metadata": {},
   "outputs": [
    {
     "data": {
      "text/plain": [
       "Index(['MONTH', 'STORECODE', 'DAY', 'BILL_ID', 'BILL_AMT', 'QTY', 'VALUE',\n",
       "       'PRICE', 'GRP', 'SGRP', 'SSGRP', 'CMP', 'MBRD', 'BRD'],\n",
       "      dtype='object')"
      ]
     },
     "execution_count": 46,
     "metadata": {},
     "output_type": "execute_result"
    }
   ],
   "source": [
    "working.columns"
   ]
  },
  {
   "cell_type": "code",
   "execution_count": 31,
   "metadata": {},
   "outputs": [
    {
     "data": {
      "text/html": [
       "<div>\n",
       "<style scoped>\n",
       "    .dataframe tbody tr th:only-of-type {\n",
       "        vertical-align: middle;\n",
       "    }\n",
       "\n",
       "    .dataframe tbody tr th {\n",
       "        vertical-align: top;\n",
       "    }\n",
       "\n",
       "    .dataframe thead th {\n",
       "        text-align: right;\n",
       "    }\n",
       "</style>\n",
       "<table border=\"1\" class=\"dataframe\">\n",
       "  <thead>\n",
       "    <tr style=\"text-align: right;\">\n",
       "      <th></th>\n",
       "      <th>MONTH</th>\n",
       "      <th>STORECODE</th>\n",
       "      <th>QTY</th>\n",
       "      <th>GRP</th>\n",
       "      <th>CMP</th>\n",
       "      <th>MBRD</th>\n",
       "    </tr>\n",
       "  </thead>\n",
       "  <tbody>\n",
       "    <tr>\n",
       "      <td>0</td>\n",
       "      <td>M1</td>\n",
       "      <td>P1</td>\n",
       "      <td>1.0</td>\n",
       "      <td>BUTTER MARGR  (4/94)</td>\n",
       "      <td>G C M M F</td>\n",
       "      <td>AMUL</td>\n",
       "    </tr>\n",
       "    <tr>\n",
       "      <td>1</td>\n",
       "      <td>M1</td>\n",
       "      <td>P1</td>\n",
       "      <td>1.0</td>\n",
       "      <td>CONFECTIONERY - ECLAIRS</td>\n",
       "      <td>PARLE PRODS</td>\n",
       "      <td>MELODY</td>\n",
       "    </tr>\n",
       "    <tr>\n",
       "      <td>2</td>\n",
       "      <td>M1</td>\n",
       "      <td>P1</td>\n",
       "      <td>1.0</td>\n",
       "      <td>CHOCOLATE</td>\n",
       "      <td>MONDELEZ INTERNATIONAL</td>\n",
       "      <td>CADBURY SHOTS</td>\n",
       "    </tr>\n",
       "    <tr>\n",
       "      <td>3</td>\n",
       "      <td>M1</td>\n",
       "      <td>P1</td>\n",
       "      <td>1.0</td>\n",
       "      <td>PACKAGED TEA</td>\n",
       "      <td>GUJ TEA PROCESSORS</td>\n",
       "      <td>WAGH BAKRI</td>\n",
       "    </tr>\n",
       "    <tr>\n",
       "      <td>4</td>\n",
       "      <td>M1</td>\n",
       "      <td>P1</td>\n",
       "      <td>1.0</td>\n",
       "      <td>ALL IODISED SALT</td>\n",
       "      <td>TATA CHEM</td>\n",
       "      <td>TATA</td>\n",
       "    </tr>\n",
       "  </tbody>\n",
       "</table>\n",
       "</div>"
      ],
      "text/plain": [
       "  MONTH STORECODE  QTY                      GRP                     CMP  \\\n",
       "0    M1        P1  1.0     BUTTER MARGR  (4/94)               G C M M F   \n",
       "1    M1        P1  1.0  CONFECTIONERY - ECLAIRS             PARLE PRODS   \n",
       "2    M1        P1  1.0                CHOCOLATE  MONDELEZ INTERNATIONAL   \n",
       "3    M1        P1  1.0             PACKAGED TEA      GUJ TEA PROCESSORS   \n",
       "4    M1        P1  1.0         ALL IODISED SALT               TATA CHEM   \n",
       "\n",
       "            MBRD  \n",
       "0           AMUL  \n",
       "1         MELODY  \n",
       "2  CADBURY SHOTS  \n",
       "3     WAGH BAKRI  \n",
       "4           TATA  "
      ]
     },
     "execution_count": 31,
     "metadata": {},
     "output_type": "execute_result"
    }
   ],
   "source": [
    "y_working=working[[\"VALUE\"]]\n",
    "X_working=working[[\"MONTH\",\"STORECODE\",\"QTY\",\"GRP\",\"CMP\",\"MBRD\"]]\n",
    "# replace coding of working stores to match ideal stores\n",
    "dict1={\"N1\":\"P1\",\"N2\":\"P2\",\"N3\":\"P3\",\"N4\":\"P4\",\"N5\":\"P5\",\"N6\":\"P6\",\"N7\":\"P7\",\"N8\":\"P8\",\"N9\":\"P9\",\"N10\":\"P10\"}\n",
    "X_working=X_working.replace(dict1)\n",
    "X_working.head()"
   ]
  },
  {
   "cell_type": "markdown",
   "metadata": {},
   "source": [
    "#### splitting the ideal dataset into test and train for analysis"
   ]
  },
  {
   "cell_type": "code",
   "execution_count": 28,
   "metadata": {},
   "outputs": [],
   "source": [
    "X_train, X_test, y_train, y_test = train_test_split (X_ideal, y_ideal, test_size = 0.3, \n",
    "                                                     random_state = 0)"
   ]
  },
  {
   "cell_type": "markdown",
   "metadata": {},
   "source": [
    "#### Encode categorical values"
   ]
  },
  {
   "cell_type": "code",
   "execution_count": 55,
   "metadata": {},
   "outputs": [],
   "source": [
    "# build encode object\n",
    "import category_encoders as ce\n",
    "encoder_hel = ce.HelmertEncoder(verbose=1,cols=[\"MONTH\",\"STORECODE\",\"GRP\",\"CMP\",\"MBRD\"],return_df=True)\n",
    "encoder_cat = ce.CatBoostEncoder(verbose=1,cols=[\"MONTH\",\"STORECODE\",\"GRP\",\"CMP\",\"MBRD\"],return_df=True)"
   ]
  },
  {
   "cell_type": "markdown",
   "metadata": {},
   "source": [
    "#### helmert encoding"
   ]
  },
  {
   "cell_type": "code",
   "execution_count": 40,
   "metadata": {},
   "outputs": [],
   "source": [
    "X_train_hel=encoder_hel.fit_transform(X_train)\n",
    "X_test_hel=encoder_hel.transform(X_test)\n",
    "X_working_hel=encoder_hel.transform(X_working)"
   ]
  },
  {
   "cell_type": "code",
   "execution_count": 48,
   "metadata": {},
   "outputs": [
    {
     "data": {
      "text/plain": [
       "((9982, 1369), (4278, 1369))"
      ]
     },
     "execution_count": 48,
     "metadata": {},
     "output_type": "execute_result"
    }
   ],
   "source": [
    "pd.set_option('display.max_columns',None)\n",
    "pd.set_option('display.max_rows',None)\n",
    "X_train_hel.shape,X_test_hel.shape"
   ]
  },
  {
   "cell_type": "markdown",
   "metadata": {},
   "source": [
    "#### scaling the dataset"
   ]
  },
  {
   "cell_type": "code",
   "execution_count": 42,
   "metadata": {},
   "outputs": [],
   "source": [
    "from sklearn.preprocessing import StandardScaler\n",
    "scaler=StandardScaler()"
   ]
  },
  {
   "cell_type": "code",
   "execution_count": 148,
   "metadata": {},
   "outputs": [
    {
     "data": {
      "text/plain": [
       "((9982, 1369), (4278, 1369))"
      ]
     },
     "execution_count": 148,
     "metadata": {},
     "output_type": "execute_result"
    }
   ],
   "source": [
    "X_train_hel=scaler.fit_transform(X_train_hel)\n",
    "X_train_hel=pd.DataFrame(X_train_hel)\n",
    "X_test_hel=scaler.transform(X_test_hel)\n",
    "X_test_hel=pd.DataFrame(X_test_hel)\n",
    "X_working_hel=scaler.transform(X_working_hel)\n",
    "X_working_hel=pd.DataFrame(X_working_hel)\n",
    "X_train_hel.shape,X_test_hel.shape"
   ]
  },
  {
   "cell_type": "markdown",
   "metadata": {},
   "source": [
    "#### catboost encoding"
   ]
  },
  {
   "cell_type": "code",
   "execution_count": 147,
   "metadata": {},
   "outputs": [
    {
     "data": {
      "text/plain": [
       "pandas.core.frame.DataFrame"
      ]
     },
     "execution_count": 147,
     "metadata": {},
     "output_type": "execute_result"
    }
   ],
   "source": [
    "X_train_cat=encoder_cat.fit_transform(X_train,y_train)\n",
    "X_test_cat=encoder_cat.transform(X_test,y_test)\n",
    "X_working_cat=encoder_cat.transform(X_working,y_working)\n",
    "type(X_test_cat)"
   ]
  },
  {
   "cell_type": "code",
   "execution_count": 146,
   "metadata": {},
   "outputs": [
    {
     "data": {
      "text/plain": [
       "((9982, 6), (4278, 6), (26985, 6))"
      ]
     },
     "execution_count": 146,
     "metadata": {},
     "output_type": "execute_result"
    }
   ],
   "source": [
    "X_train_cat=scaler.fit_transform(X_train_cat)\n",
    "X_train_cat=pd.DataFrame(X_train_cat)\n",
    "\n",
    "X_test_cat = scaler.transform(X_test_cat) \n",
    "X_test_cat = pd.DataFrame(X_test_cat)\n",
    "\n",
    "X_working_cat=scaler.transform(X_working_cat)\n",
    "X_working_cat=pd.DataFrame(X_working_cat)\n",
    "X_train_cat.shape, X_test_cat.shape, X_working_cat.shape"
   ]
  },
  {
   "cell_type": "markdown",
   "metadata": {},
   "source": [
    "#### applying Xgboost\n"
   ]
  },
  {
   "cell_type": "code",
   "execution_count": 68,
   "metadata": {},
   "outputs": [],
   "source": [
    "import xgboost as xgb\n",
    "from sklearn.metrics import mean_squared_error,r2_score"
   ]
  },
  {
   "cell_type": "code",
   "execution_count": 118,
   "metadata": {},
   "outputs": [],
   "source": [
    "xg_reg=xgb.XGBRegressor(eval_metric=\"rmse\",objective=\"reg:squarederror\",colsample_bytree=0.3,learning_rate=0.2,max_depth=8,alpha=10,n_estimators=110)"
   ]
  },
  {
   "cell_type": "code",
   "execution_count": 119,
   "metadata": {},
   "outputs": [],
   "source": [
    "# xgboost on helmert coded data\n",
    "xg_reg.fit(X_train_hel,y_train)\n",
    "ytrain_hel=xg_reg.predict(X_train_hel)\n",
    "ytest_hel=xg_reg.predict(X_test_hel)\n",
    "yworking_hel=xg_reg.predict(X_working_hel)"
   ]
  },
  {
   "cell_type": "code",
   "execution_count": 145,
   "metadata": {},
   "outputs": [
    {
     "data": {
      "text/plain": [
       "((9982,), (4278,), (26985,))"
      ]
     },
     "execution_count": 145,
     "metadata": {},
     "output_type": "execute_result"
    }
   ],
   "source": [
    "ytrain_hel.shape,ytest_hel.shape,yworking_hel.shape"
   ]
  },
  {
   "cell_type": "code",
   "execution_count": 121,
   "metadata": {},
   "outputs": [
    {
     "data": {
      "text/plain": [
       "((9982,), (4278,), (26985,))"
      ]
     },
     "execution_count": 121,
     "metadata": {},
     "output_type": "execute_result"
    }
   ],
   "source": [
    "# xgboost on catboost coded data\n",
    "xg_reg.fit(X_train_cat,y_train)\n",
    "ytrain_cat=xg_reg.predict(X_train_cat)\n",
    "ytest_cat=xg_reg.predict(X_test_cat)\n",
    "yworking_cat=xg_reg.predict(X_working_cat)\n",
    "ytrain_cat.shape,ytest_cat.shape,yworking_cat.shape"
   ]
  },
  {
   "cell_type": "markdown",
   "metadata": {},
   "source": [
    "#### Statitics of output by xgboost"
   ]
  },
  {
   "cell_type": "code",
   "execution_count": 122,
   "metadata": {},
   "outputs": [
    {
     "data": {
      "image/png": "[encoded data removed]",
      "text/plain": [
       "<Figure size 432x288 with 2 Axes>"
      ]
     },
     "metadata": {
      "needs_background": "light"
     },
     "output_type": "display_data"
    }
   ],
   "source": [
    "# analysis of xgboost predictions and helmert encoded data\n",
    "fig,(ax1,ax2)=plt.subplots(1,2)\n",
    "\n",
    "ax1.scatter(y_train.VALUE,ytrain_hel,color=\"r\")\n",
    "ax1.title.set_text(\"train vs true\")\n",
    "ax2.scatter(y_test.VALUE,ytest_hel,color=\"b\")\n",
    "ax2.title.set_text(\"test vs true\")"
   ]
  },
  {
   "cell_type": "code",
   "execution_count": 124,
   "metadata": {},
   "outputs": [
    {
     "data": {
      "text/plain": [
       "(159.43580876796227, 381.312606116798)"
      ]
     },
     "execution_count": 124,
     "metadata": {},
     "output_type": "execute_result"
    }
   ],
   "source": [
    "# RMSE of train and test data\n",
    "np.sqrt(mean_squared_error(y_train.VALUE,ytrain_hel)),np.sqrt(mean_squared_error(y_test.VALUE,ytest_hel))"
   ]
  },
  {
   "cell_type": "code",
   "execution_count": 123,
   "metadata": {},
   "outputs": [
    {
     "data": {
      "text/plain": [
       "(0.9603929530996608, 0.6604722352284049)"
      ]
     },
     "execution_count": 123,
     "metadata": {},
     "output_type": "execute_result"
    }
   ],
   "source": [
    "# r2_score of train and test data\n",
    "r2_score(y_train.VALUE,ytrain_hel,multioutput='uniform_average'),r2_score(y_test.VALUE,ytest_hel,multioutput='uniform_average')"
   ]
  },
  {
   "cell_type": "code",
   "execution_count": 125,
   "metadata": {},
   "outputs": [
    {
     "data": {
      "image/png": "[encoded data removed]",
      "text/plain": [
       "<Figure size 432x288 with 2 Axes>"
      ]
     },
     "metadata": {
      "needs_background": "light"
     },
     "output_type": "display_data"
    }
   ],
   "source": [
    "# analysis of xgboost predictions and catboost encoded data\n",
    "fig,(ax1,ax2)=plt.subplots(1,2)\n",
    "\n",
    "ax1.scatter(y_train.VALUE,ytrain_cat,color=\"r\")\n",
    "ax1.title.set_text(\"train vs true\")\n",
    "ax2.scatter(y_test.VALUE,ytest_cat,color=\"b\")\n",
    "ax2.title.set_text(\"test vs true\")"
   ]
  },
  {
   "cell_type": "code",
   "execution_count": 126,
   "metadata": {},
   "outputs": [
    {
     "data": {
      "text/plain": [
       "(225.58592409256784, 584.8895588171805)"
      ]
     },
     "execution_count": 126,
     "metadata": {},
     "output_type": "execute_result"
    }
   ],
   "source": [
    "# RSME of train and test data\n",
    "np.sqrt(mean_squared_error(y_train.VALUE,ytrain_cat)),np.sqrt(mean_squared_error(y_test.VALUE,ytest_cat))"
   ]
  },
  {
   "cell_type": "code",
   "execution_count": 127,
   "metadata": {},
   "outputs": [
    {
     "data": {
      "text/plain": [
       "(0.9207088495407331, 0.20115834054594595)"
      ]
     },
     "execution_count": 127,
     "metadata": {},
     "output_type": "execute_result"
    }
   ],
   "source": [
    "# r2_score of train and test data\n",
    "r2_score(y_train.VALUE,ytrain_cat,multioutput='uniform_average'),r2_score(y_test.VALUE,ytest_cat,multioutput='uniform_average')"
   ]
  },
  {
   "cell_type": "markdown",
   "metadata": {},
   "source": [
    "#### applying catboost algorithm"
   ]
  },
  {
   "cell_type": "code",
   "execution_count": 140,
   "metadata": {},
   "outputs": [],
   "source": [
    "import numpy as np\n",
    "from catboost import Pool, CatBoostRegressor as cbr"
   ]
  },
  {
   "cell_type": "code",
   "execution_count": 168,
   "metadata": {},
   "outputs": [],
   "source": [
    "model = cbr(iterations=2000, \n",
    "                 depth=5, \n",
    "       learning_rate=0.2, \n",
    "     loss_function='RMSE',\n",
    "           verbose=0)"
   ]
  },
  {
   "cell_type": "code",
   "execution_count": 169,
   "metadata": {},
   "outputs": [],
   "source": [
    "# catboost on helmert coded data\n",
    "model.fit(X_train_hel,y_train)\n",
    "ytrain_hel=model.predict(X_train_hel)\n",
    "ytest_hel=model.predict(X_test_hel)\n",
    "yworking_hel=model.predict(X_working_hel)"
   ]
  },
  {
   "cell_type": "code",
   "execution_count": 170,
   "metadata": {},
   "outputs": [
    {
     "data": {
      "text/plain": [
       "((9982,), (4278,), (26985,))"
      ]
     },
     "execution_count": 170,
     "metadata": {},
     "output_type": "execute_result"
    }
   ],
   "source": [
    "ytrain_hel.shape,ytest_hel.shape,yworking_hel.shape"
   ]
  },
  {
   "cell_type": "code",
   "execution_count": 176,
   "metadata": {},
   "outputs": [],
   "source": [
    "# catboost on catboost coded data\n",
    "model.fit(X_train_cat,y_train)\n",
    "ytrain_cat=model.predict(X_train_cat)\n",
    "ytest_cat=model.predict(X_test_cat)\n",
    "yworking_cat=model.predict(X_working_cat)"
   ]
  },
  {
   "cell_type": "code",
   "execution_count": 172,
   "metadata": {},
   "outputs": [
    {
     "data": {
      "text/plain": [
       "((9982,), (4278,), (26985,))"
      ]
     },
     "execution_count": 172,
     "metadata": {},
     "output_type": "execute_result"
    }
   ],
   "source": [
    "ytrain_cat.shape,ytest_cat.shape,yworking_cat.shape"
   ]
  },
  {
   "cell_type": "markdown",
   "metadata": {},
   "source": [
    "#### statics of output bycatboost"
   ]
  },
  {
   "cell_type": "code",
   "execution_count": 173,
   "metadata": {},
   "outputs": [
    {
     "data": {
      "image/png": "[encoded data removed]",
      "text/plain": [
       "<Figure size 432x288 with 2 Axes>"
      ]
     },
     "metadata": {
      "needs_background": "light"
     },
     "output_type": "display_data"
    }
   ],
   "source": [
    "# analysis of catboost predictions and helmert encoded data\n",
    "fig,(ax1,ax2)=plt.subplots(1,2)\n",
    "\n",
    "ax1.scatter(y_train.VALUE,ytrain_cat,color=\"r\")\n",
    "ax1.title.set_text(\"train vs true\")\n",
    "ax2.scatter(y_test.VALUE,ytest_cat,color=\"b\")\n",
    "ax2.title.set_text(\"test vs true\")"
   ]
  },
  {
   "cell_type": "code",
   "execution_count": 174,
   "metadata": {},
   "outputs": [
    {
     "data": {
      "text/plain": [
       "(107.29435667222918, 255.80201865703577)"
      ]
     },
     "execution_count": 174,
     "metadata": {},
     "output_type": "execute_result"
    }
   ],
   "source": [
    "# RSME of train and test data\n",
    "np.sqrt(mean_squared_error(y_train.VALUE,ytrain_hel)),np.sqrt(mean_squared_error(y_test.VALUE,ytest_hel))"
   ]
  },
  {
   "cell_type": "code",
   "execution_count": 175,
   "metadata": {},
   "outputs": [
    {
     "data": {
      "text/plain": [
       "(0.982062806856074, 0.8472008625250254)"
      ]
     },
     "execution_count": 175,
     "metadata": {},
     "output_type": "execute_result"
    }
   ],
   "source": [
    "# r2_score of train and test data\n",
    "r2_score(y_train.VALUE,ytrain_hel,multioutput='uniform_average'),r2_score(y_test.VALUE,ytest_hel,multioutput='uniform_average')"
   ]
  },
  {
   "cell_type": "code",
   "execution_count": 178,
   "metadata": {},
   "outputs": [
    {
     "data": {
      "image/png": "[encoded data removed]",
      "text/plain": [
       "<Figure size 432x288 with 2 Axes>"
      ]
     },
     "metadata": {
      "needs_background": "light"
     },
     "output_type": "display_data"
    }
   ],
   "source": [
    "# analysis of catboost predictions and catboost encoded data\n",
    "fig,(ax1,ax2)=plt.subplots(1,2)\n",
    "ax1.scatter(y_train.VALUE,ytrain_cat,color=\"r\")\n",
    "ax1.title.set_text(\"train vs true\")\n",
    "ax2.scatter(y_test.VALUE,ytest_cat,color=\"b\")\n",
    "ax2.title.set_text(\"test vs true\")\n",
    "plt.tight_layout()"
   ]
  },
  {
   "cell_type": "code",
   "execution_count": 179,
   "metadata": {},
   "outputs": [
    {
     "data": {
      "text/plain": [
       "(103.1415281539211, 472.2558321646807)"
      ]
     },
     "execution_count": 179,
     "metadata": {},
     "output_type": "execute_result"
    }
   ],
   "source": [
    "# RSME of train and test data\n",
    "np.sqrt(mean_squared_error(y_train.VALUE,ytrain_cat)),np.sqrt(mean_squared_error(y_test.VALUE,ytest_cat))"
   ]
  },
  {
   "cell_type": "code",
   "execution_count": 180,
   "metadata": {},
   "outputs": [
    {
     "data": {
      "text/plain": [
       "(0.9834244538228891, 0.4792040144153056)"
      ]
     },
     "execution_count": 180,
     "metadata": {},
     "output_type": "execute_result"
    }
   ],
   "source": [
    "# r2_score of train and test data\n",
    "r2_score(y_train.VALUE,ytrain_cat,multioutput='uniform_average'),r2_score(y_test.VALUE,ytest_cat,multioutput='uniform_average')"
   ]
  },
  {
   "cell_type": "markdown",
   "metadata": {},
   "source": [
    "#### final prediction of values for stores of working dataset"
   ]
  },
  {
   "cell_type": "markdown",
   "metadata": {},
   "source": [
    "##### catboost on helmert coded data showed minimum RMSE and highest r2"
   ]
  },
  {
   "cell_type": "code",
   "execution_count": 181,
   "metadata": {},
   "outputs": [],
   "source": [
    "# catboost on helmert coded data\n",
    "model.fit(X_train_hel,y_train)\n",
    "yworking_hel=model.predict(X_working_hel)"
   ]
  },
  {
   "cell_type": "code",
   "execution_count": 200,
   "metadata": {},
   "outputs": [],
   "source": [
    "final_working=working.drop(\"VALUE\",axis=1)\n",
    "final_working.reset_index(inplace=True)"
   ]
  },
  {
   "cell_type": "code",
   "execution_count": 201,
   "metadata": {},
   "outputs": [
    {
     "data": {
      "text/plain": [
       "((26985, 1), (26985, 14))"
      ]
     },
     "execution_count": 201,
     "metadata": {},
     "output_type": "execute_result"
    }
   ],
   "source": [
    "yfinal=pd.DataFrame(yworking_hel)\n",
    "yfinal.columns=[\"VALUE\"]\n",
    "yfinal.shape,final_working.shape"
   ]
  },
  {
   "cell_type": "code",
   "execution_count": 205,
   "metadata": {},
   "outputs": [
    {
     "data": {
      "text/plain": [
       "((26985, 15), (26985, 14))"
      ]
     },
     "execution_count": 205,
     "metadata": {},
     "output_type": "execute_result"
    }
   ],
   "source": [
    "correct_working=final_working.join(yfinal)\n",
    "correct_working.shape,working.shape"
   ]
  },
  {
   "cell_type": "code",
   "execution_count": 208,
   "metadata": {},
   "outputs": [
    {
     "data": {
      "text/html": [
       "<div>\n",
       "<style scoped>\n",
       "    .dataframe tbody tr th:only-of-type {\n",
       "        vertical-align: middle;\n",
       "    }\n",
       "\n",
       "    .dataframe tbody tr th {\n",
       "        vertical-align: top;\n",
       "    }\n",
       "\n",
       "    .dataframe thead th {\n",
       "        text-align: right;\n",
       "    }\n",
       "</style>\n",
       "<table border=\"1\" class=\"dataframe\">\n",
       "  <thead>\n",
       "    <tr style=\"text-align: right;\">\n",
       "      <th></th>\n",
       "      <th>MONTH</th>\n",
       "      <th>STORECODE</th>\n",
       "      <th>DAY</th>\n",
       "      <th>BILL_ID</th>\n",
       "      <th>BILL_AMT</th>\n",
       "      <th>QTY</th>\n",
       "      <th>PRICE</th>\n",
       "      <th>GRP</th>\n",
       "      <th>SGRP</th>\n",
       "      <th>SSGRP</th>\n",
       "      <th>CMP</th>\n",
       "      <th>MBRD</th>\n",
       "      <th>BRD</th>\n",
       "      <th>VALUE</th>\n",
       "    </tr>\n",
       "  </thead>\n",
       "  <tbody>\n",
       "    <tr>\n",
       "      <td>0</td>\n",
       "      <td>M1</td>\n",
       "      <td>N1</td>\n",
       "      <td>4</td>\n",
       "      <td>T375</td>\n",
       "      <td>225.0</td>\n",
       "      <td>1.0</td>\n",
       "      <td>225.0</td>\n",
       "      <td>BUTTER MARGR  (4/94)</td>\n",
       "      <td>BUTTER</td>\n",
       "      <td>SALTED</td>\n",
       "      <td>G C M M F</td>\n",
       "      <td>AMUL</td>\n",
       "      <td>AMUL</td>\n",
       "      <td>3168.338304</td>\n",
       "    </tr>\n",
       "    <tr>\n",
       "      <td>1</td>\n",
       "      <td>M1</td>\n",
       "      <td>N1</td>\n",
       "      <td>4</td>\n",
       "      <td>T379</td>\n",
       "      <td>95.0</td>\n",
       "      <td>1.0</td>\n",
       "      <td>95.0</td>\n",
       "      <td>CONFECTIONERY - ECLAIRS</td>\n",
       "      <td>CONFECTIONERY - ECLAIRS</td>\n",
       "      <td>CONFECTIONERY - ECLAIRS</td>\n",
       "      <td>PARLE PRODS</td>\n",
       "      <td>MELODY</td>\n",
       "      <td>MELODY CHOCOLATY</td>\n",
       "      <td>323.115974</td>\n",
       "    </tr>\n",
       "    <tr>\n",
       "      <td>2</td>\n",
       "      <td>M1</td>\n",
       "      <td>N1</td>\n",
       "      <td>4</td>\n",
       "      <td>T381</td>\n",
       "      <td>10.0</td>\n",
       "      <td>1.0</td>\n",
       "      <td>10.0</td>\n",
       "      <td>CHOCOLATE</td>\n",
       "      <td>CHOCOLATE PANNED</td>\n",
       "      <td>CHOCOLATE PANNED</td>\n",
       "      <td>MONDELEZ INTERNATIONAL</td>\n",
       "      <td>CADBURY SHOTS</td>\n",
       "      <td>CADBURY SHOTS</td>\n",
       "      <td>243.510513</td>\n",
       "    </tr>\n",
       "    <tr>\n",
       "      <td>3</td>\n",
       "      <td>M1</td>\n",
       "      <td>N1</td>\n",
       "      <td>4</td>\n",
       "      <td>T382</td>\n",
       "      <td>108.0</td>\n",
       "      <td>1.0</td>\n",
       "      <td>108.0</td>\n",
       "      <td>PACKAGED TEA</td>\n",
       "      <td>MAIN PACKS</td>\n",
       "      <td>MAIN PACKS</td>\n",
       "      <td>GUJ TEA PROCESSORS</td>\n",
       "      <td>WAGH BAKRI</td>\n",
       "      <td>WAGH BAKRI INSTANT</td>\n",
       "      <td>994.968639</td>\n",
       "    </tr>\n",
       "    <tr>\n",
       "      <td>4</td>\n",
       "      <td>M1</td>\n",
       "      <td>N1</td>\n",
       "      <td>4</td>\n",
       "      <td>T384</td>\n",
       "      <td>19.0</td>\n",
       "      <td>1.0</td>\n",
       "      <td>19.0</td>\n",
       "      <td>ALL IODISED SALT</td>\n",
       "      <td>POWDERED SALT</td>\n",
       "      <td>POWDERED SALT</td>\n",
       "      <td>TATA CHEM</td>\n",
       "      <td>TATA</td>\n",
       "      <td>TATA SALT</td>\n",
       "      <td>867.529530</td>\n",
       "    </tr>\n",
       "  </tbody>\n",
       "</table>\n",
       "</div>"
      ],
      "text/plain": [
       "  MONTH STORECODE  DAY BILL_ID  BILL_AMT  QTY  PRICE                      GRP  \\\n",
       "0    M1        N1    4    T375     225.0  1.0  225.0     BUTTER MARGR  (4/94)   \n",
       "1    M1        N1    4    T379      95.0  1.0   95.0  CONFECTIONERY - ECLAIRS   \n",
       "2    M1        N1    4    T381      10.0  1.0   10.0                CHOCOLATE   \n",
       "3    M1        N1    4    T382     108.0  1.0  108.0             PACKAGED TEA   \n",
       "4    M1        N1    4    T384      19.0  1.0   19.0         ALL IODISED SALT   \n",
       "\n",
       "                      SGRP                    SSGRP                     CMP  \\\n",
       "0                   BUTTER                   SALTED               G C M M F   \n",
       "1  CONFECTIONERY - ECLAIRS  CONFECTIONERY - ECLAIRS             PARLE PRODS   \n",
       "2         CHOCOLATE PANNED         CHOCOLATE PANNED  MONDELEZ INTERNATIONAL   \n",
       "3               MAIN PACKS               MAIN PACKS      GUJ TEA PROCESSORS   \n",
       "4            POWDERED SALT            POWDERED SALT               TATA CHEM   \n",
       "\n",
       "            MBRD                 BRD        VALUE  \n",
       "0           AMUL                AMUL  3168.338304  \n",
       "1         MELODY    MELODY CHOCOLATY   323.115974  \n",
       "2  CADBURY SHOTS       CADBURY SHOTS   243.510513  \n",
       "3     WAGH BAKRI  WAGH BAKRI INSTANT   994.968639  \n",
       "4           TATA           TATA SALT   867.529530  "
      ]
     },
     "execution_count": 208,
     "metadata": {},
     "output_type": "execute_result"
    }
   ],
   "source": [
    "correct_wrk_mnth=correct_working.groupby([\"MONTH\",\"STORECODE\"])[\"\"]"
   ]
  },
  {
   "cell_type": "code",
   "execution_count": 213,
   "metadata": {},
   "outputs": [],
   "source": [
    "wrk_grp=correct_working.groupby(['MONTH','GRP','STORECODE'])['QTY','VALUE'].aggregate({\"QTY\":\"count\",\"VALUE\":\"sum\"}).unstack()"
   ]
  },
  {
   "cell_type": "code",
   "execution_count": 221,
   "metadata": {},
   "outputs": [
    {
     "data": {
      "text/html": [
       "<div>\n",
       "<style scoped>\n",
       "    .dataframe tbody tr th:only-of-type {\n",
       "        vertical-align: middle;\n",
       "    }\n",
       "\n",
       "    .dataframe tbody tr th {\n",
       "        vertical-align: top;\n",
       "    }\n",
       "\n",
       "    .dataframe thead tr th {\n",
       "        text-align: left;\n",
       "    }\n",
       "\n",
       "    .dataframe thead tr:last-of-type th {\n",
       "        text-align: right;\n",
       "    }\n",
       "</style>\n",
       "<table border=\"1\" class=\"dataframe\">\n",
       "  <thead>\n",
       "    <tr>\n",
       "      <th></th>\n",
       "      <th></th>\n",
       "      <th colspan=\"10\" halign=\"left\">QTY</th>\n",
       "      <th colspan=\"10\" halign=\"left\">VALUE</th>\n",
       "    </tr>\n",
       "    <tr>\n",
       "      <th></th>\n",
       "      <th>STORECODE</th>\n",
       "      <th>N1</th>\n",
       "      <th>N10</th>\n",
       "      <th>N2</th>\n",
       "      <th>N3</th>\n",
       "      <th>N4</th>\n",
       "      <th>N5</th>\n",
       "      <th>N6</th>\n",
       "      <th>N7</th>\n",
       "      <th>N8</th>\n",
       "      <th>N9</th>\n",
       "      <th>N1</th>\n",
       "      <th>N10</th>\n",
       "      <th>N2</th>\n",
       "      <th>N3</th>\n",
       "      <th>N4</th>\n",
       "      <th>N5</th>\n",
       "      <th>N6</th>\n",
       "      <th>N7</th>\n",
       "      <th>N8</th>\n",
       "      <th>N9</th>\n",
       "    </tr>\n",
       "    <tr>\n",
       "      <th>MONTH</th>\n",
       "      <th>GRP</th>\n",
       "      <th></th>\n",
       "      <th></th>\n",
       "      <th></th>\n",
       "      <th></th>\n",
       "      <th></th>\n",
       "      <th></th>\n",
       "      <th></th>\n",
       "      <th></th>\n",
       "      <th></th>\n",
       "      <th></th>\n",
       "      <th></th>\n",
       "      <th></th>\n",
       "      <th></th>\n",
       "      <th></th>\n",
       "      <th></th>\n",
       "      <th></th>\n",
       "      <th></th>\n",
       "      <th></th>\n",
       "      <th></th>\n",
       "      <th></th>\n",
       "    </tr>\n",
       "  </thead>\n",
       "  <tbody>\n",
       "    <tr>\n",
       "      <td rowspan=\"5\" valign=\"top\">M1</td>\n",
       "      <td>AFTER SHAVE LOTIONS</td>\n",
       "      <td>0.0</td>\n",
       "      <td>0.0</td>\n",
       "      <td>0.0</td>\n",
       "      <td>0.0</td>\n",
       "      <td>1.0</td>\n",
       "      <td>0.0</td>\n",
       "      <td>0.0</td>\n",
       "      <td>0.0</td>\n",
       "      <td>1.0</td>\n",
       "      <td>0.0</td>\n",
       "      <td>0.000000</td>\n",
       "      <td>0.000000</td>\n",
       "      <td>0.000000</td>\n",
       "      <td>0.000000</td>\n",
       "      <td>397.933734</td>\n",
       "      <td>0.000000</td>\n",
       "      <td>0.0</td>\n",
       "      <td>0.000000</td>\n",
       "      <td>530.612983</td>\n",
       "      <td>0.000000</td>\n",
       "    </tr>\n",
       "    <tr>\n",
       "      <td>AGARBATTI &amp; DHOOPBATTI</td>\n",
       "      <td>5.0</td>\n",
       "      <td>1.0</td>\n",
       "      <td>6.0</td>\n",
       "      <td>4.0</td>\n",
       "      <td>1.0</td>\n",
       "      <td>2.0</td>\n",
       "      <td>0.0</td>\n",
       "      <td>8.0</td>\n",
       "      <td>0.0</td>\n",
       "      <td>2.0</td>\n",
       "      <td>6138.315371</td>\n",
       "      <td>1009.610321</td>\n",
       "      <td>7981.019140</td>\n",
       "      <td>3675.391209</td>\n",
       "      <td>1095.149328</td>\n",
       "      <td>2282.351827</td>\n",
       "      <td>0.0</td>\n",
       "      <td>10732.771167</td>\n",
       "      <td>0.000000</td>\n",
       "      <td>2480.528386</td>\n",
       "    </tr>\n",
       "    <tr>\n",
       "      <td>ALL AIR FRESHNERS(01/03)</td>\n",
       "      <td>3.0</td>\n",
       "      <td>0.0</td>\n",
       "      <td>5.0</td>\n",
       "      <td>1.0</td>\n",
       "      <td>3.0</td>\n",
       "      <td>1.0</td>\n",
       "      <td>0.0</td>\n",
       "      <td>6.0</td>\n",
       "      <td>2.0</td>\n",
       "      <td>2.0</td>\n",
       "      <td>1996.290680</td>\n",
       "      <td>0.000000</td>\n",
       "      <td>5577.679220</td>\n",
       "      <td>745.379543</td>\n",
       "      <td>2505.357293</td>\n",
       "      <td>630.911492</td>\n",
       "      <td>0.0</td>\n",
       "      <td>6070.713097</td>\n",
       "      <td>1839.726056</td>\n",
       "      <td>2311.963407</td>\n",
       "    </tr>\n",
       "    <tr>\n",
       "      <td>ALL IODISED SALT</td>\n",
       "      <td>29.0</td>\n",
       "      <td>14.0</td>\n",
       "      <td>2.0</td>\n",
       "      <td>13.0</td>\n",
       "      <td>2.0</td>\n",
       "      <td>1.0</td>\n",
       "      <td>0.0</td>\n",
       "      <td>43.0</td>\n",
       "      <td>2.0</td>\n",
       "      <td>31.0</td>\n",
       "      <td>25507.393229</td>\n",
       "      <td>13605.436147</td>\n",
       "      <td>1447.872172</td>\n",
       "      <td>14731.167192</td>\n",
       "      <td>1634.417419</td>\n",
       "      <td>653.585650</td>\n",
       "      <td>0.0</td>\n",
       "      <td>52985.223457</td>\n",
       "      <td>2949.734502</td>\n",
       "      <td>27838.590075</td>\n",
       "    </tr>\n",
       "    <tr>\n",
       "      <td>ANTACIDS</td>\n",
       "      <td>6.0</td>\n",
       "      <td>2.0</td>\n",
       "      <td>1.0</td>\n",
       "      <td>1.0</td>\n",
       "      <td>0.0</td>\n",
       "      <td>0.0</td>\n",
       "      <td>0.0</td>\n",
       "      <td>7.0</td>\n",
       "      <td>0.0</td>\n",
       "      <td>0.0</td>\n",
       "      <td>2889.709542</td>\n",
       "      <td>1221.575104</td>\n",
       "      <td>410.850424</td>\n",
       "      <td>354.407464</td>\n",
       "      <td>0.000000</td>\n",
       "      <td>0.000000</td>\n",
       "      <td>0.0</td>\n",
       "      <td>4174.888942</td>\n",
       "      <td>0.000000</td>\n",
       "      <td>0.000000</td>\n",
       "    </tr>\n",
       "  </tbody>\n",
       "</table>\n",
       "</div>"
      ],
      "text/plain": [
       "                                 QTY                                        \\\n",
       "STORECODE                         N1   N10   N2    N3   N4   N5   N6    N7   \n",
       "MONTH GRP                                                                    \n",
       "M1    AFTER SHAVE LOTIONS        0.0   0.0  0.0   0.0  1.0  0.0  0.0   0.0   \n",
       "      AGARBATTI & DHOOPBATTI     5.0   1.0  6.0   4.0  1.0  2.0  0.0   8.0   \n",
       "      ALL AIR FRESHNERS(01/03)   3.0   0.0  5.0   1.0  3.0  1.0  0.0   6.0   \n",
       "      ALL IODISED SALT          29.0  14.0  2.0  13.0  2.0  1.0  0.0  43.0   \n",
       "      ANTACIDS                   6.0   2.0  1.0   1.0  0.0  0.0  0.0   7.0   \n",
       "\n",
       "                                                  VALUE                \\\n",
       "STORECODE                        N8    N9            N1           N10   \n",
       "MONTH GRP                                                               \n",
       "M1    AFTER SHAVE LOTIONS       1.0   0.0      0.000000      0.000000   \n",
       "      AGARBATTI & DHOOPBATTI    0.0   2.0   6138.315371   1009.610321   \n",
       "      ALL AIR FRESHNERS(01/03)  2.0   2.0   1996.290680      0.000000   \n",
       "      ALL IODISED SALT          2.0  31.0  25507.393229  13605.436147   \n",
       "      ANTACIDS                  0.0   0.0   2889.709542   1221.575104   \n",
       "\n",
       "                                                                        \\\n",
       "STORECODE                                N2            N3           N4   \n",
       "MONTH GRP                                                                \n",
       "M1    AFTER SHAVE LOTIONS          0.000000      0.000000   397.933734   \n",
       "      AGARBATTI & DHOOPBATTI    7981.019140   3675.391209  1095.149328   \n",
       "      ALL AIR FRESHNERS(01/03)  5577.679220    745.379543  2505.357293   \n",
       "      ALL IODISED SALT          1447.872172  14731.167192  1634.417419   \n",
       "      ANTACIDS                   410.850424    354.407464     0.000000   \n",
       "\n",
       "                                                                             \\\n",
       "STORECODE                                N5   N6            N7           N8   \n",
       "MONTH GRP                                                                     \n",
       "M1    AFTER SHAVE LOTIONS          0.000000  0.0      0.000000   530.612983   \n",
       "      AGARBATTI & DHOOPBATTI    2282.351827  0.0  10732.771167     0.000000   \n",
       "      ALL AIR FRESHNERS(01/03)   630.911492  0.0   6070.713097  1839.726056   \n",
       "      ALL IODISED SALT           653.585650  0.0  52985.223457  2949.734502   \n",
       "      ANTACIDS                     0.000000  0.0   4174.888942     0.000000   \n",
       "\n",
       "                                              \n",
       "STORECODE                                 N9  \n",
       "MONTH GRP                                     \n",
       "M1    AFTER SHAVE LOTIONS           0.000000  \n",
       "      AGARBATTI & DHOOPBATTI     2480.528386  \n",
       "      ALL AIR FRESHNERS(01/03)   2311.963407  \n",
       "      ALL IODISED SALT          27838.590075  \n",
       "      ANTACIDS                      0.000000  "
      ]
     },
     "execution_count": 221,
     "metadata": {},
     "output_type": "execute_result"
    }
   ],
   "source": [
    "wrk_grp=wrk_grp.fillna(0)\n",
    "wrk_grp.head()"
   ]
  },
  {
   "cell_type": "code",
   "execution_count": 216,
   "metadata": {},
   "outputs": [],
   "source": [
    "correct_working.to_csv(\"C:\\\\Users\\\\anubr\\\\Documents\\\\neilsen_challenge\\\\Kirana_Grp.csv\",index=False)"
   ]
  },
  {
   "cell_type": "code",
   "execution_count": 222,
   "metadata": {},
   "outputs": [],
   "source": [
    "wrk_grp.to_csv(\"C:\\\\Users\\\\anubr\\\\Documents\\\\neilsen_challenge\\\\Kirana_Grp.csv\",index=True)"
   ]
  },
  {
   "cell_type": "code",
   "execution_count": null,
   "metadata": {},
   "outputs": [],
   "source": []
  }
 ],
 "metadata": {
  "kernelspec": {
   "display_name": "Python 3",
   "language": "python",
   "name": "python3"
  },
  "language_info": {
   "codemirror_mode": {
    "name": "ipython",
    "version": 3
   },
   "file_extension": ".py",
   "mimetype": "text/x-python",
   "name": "python",
   "nbconvert_exporter": "python",
   "pygments_lexer": "ipython3",
   "version": "3.7.4"
  }
 },
 "nbformat": 4,
 "nbformat_minor": 4
}
